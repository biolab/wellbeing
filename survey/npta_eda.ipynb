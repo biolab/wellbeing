{
 "cells": [
  {
   "attachments": {},
   "cell_type": "markdown",
   "metadata": {},
   "source": [
    "# My Dream Country"
   ]
  },
  {
   "attachments": {},
   "cell_type": "markdown",
   "metadata": {},
   "source": [
    "### The aim of the study and data collection\n",
    "\n",
    "The following dataset was collected as a part of a larger research that deals with the prediction of well-being factors in Slovenia, compiled with the objective of ranking 32 European countries. Specifically, the study aimed to determine participants preferences for residing in different countries, thereby finding the relative popularity of Slovenia among Slovenians and factors affecting this preferences. \n",
    "\n",
    "Initially, this analysis employed pairwise comparison technique, wherein each country was evaluated against every other country in paired fashion, and respondents were required to indicate their preference for living in each one. In doing so, the ranking score for each country was calculated by taking into account how many times it was chosen in pairwise comparison and how frequently it appeared to participants for comparison. Furthermore, demographic information, the total points earned on the final high school exam (which impacts university admission), and levels of agreement about macroeconomic statements were also gathered from the respondents. \n",
    "\n",
    "As a result, the present study aims to determine if specific factors, such as exam grades or agreement with certain statements, are correlated with country preferences. Furthermore, this study seeks to investigate potential interaction effects between these various factors and country preferences."
   ]
  },
  {
   "attachments": {},
   "cell_type": "markdown",
   "metadata": {},
   "source": [
    "### Dataset 1 description\n",
    "\n",
    "The present dataset was collected in the January, as part of courses at the Faculty of Economics in Ljubljana. \n",
    "\n",
    "* **Age**: the number of years;\n",
    "* **Region**: the region of living;\n",
    "* **Grades**: success on the final high school exam measured as the sum of scores;\n",
    "* **Responsibility**: statement *'Individuals should take more responsibility for their lives.'*;\n",
    "* **Employment**: statement *'The unemployed should take any available job or lose unemployment benefits.'*;\n",
    "* **Competition**: statement *'Market competition improves the country and the living environment.'*;\n",
    "* **Gini**: statement *'Employees incomes should be more equal.'*\n",
    "* **Privatization**: statement *'Private ownership of bussiness and industry should be increased.'*\n",
    "\n",
    "Note that data regarding the gender and education of the participants is not available. Data on gender was ommited from the research unintentionally, while data education was excluded from the beggining, because the sample exclusively comprises university students who were assumed to have completed secondary education.\n"
   ]
  },
  {
   "cell_type": "code",
   "execution_count": 1,
   "metadata": {
    "vscode": {
     "languageId": "r"
    }
   },
   "outputs": [],
   "source": [
    "suppressMessages(library(readr))\n",
    "suppressMessages(library(dplyr))\n",
    "suppressMessages(library(tidyverse))\n",
    "suppressMessages(library(skimr))"
   ]
  },
  {
   "cell_type": "code",
   "execution_count": 2,
   "metadata": {
    "vscode": {
     "languageId": "r"
    }
   },
   "outputs": [
    {
     "data": {
      "text/html": [
       "<table class=\"dataframe\">\n",
       "<caption>A data.frame: 6 × 13</caption>\n",
       "<thead>\n",
       "\t<tr><th></th><th scope=col>id_i</th><th scope=col>timestamp</th><th scope=col>age</th><th scope=col>region</th><th scope=col>grades</th><th scope=col>responsibility</th><th scope=col>employment</th><th scope=col>competition</th><th scope=col>gini</th><th scope=col>privatization</th><th scope=col>slovenia_an_option</th><th scope=col>slovenia_selected</th><th scope=col>slov_score</th></tr>\n",
       "\t<tr><th></th><th scope=col>&lt;chr&gt;</th><th scope=col>&lt;chr&gt;</th><th scope=col>&lt;chr&gt;</th><th scope=col>&lt;chr&gt;</th><th scope=col>&lt;chr&gt;</th><th scope=col>&lt;int&gt;</th><th scope=col>&lt;int&gt;</th><th scope=col>&lt;int&gt;</th><th scope=col>&lt;int&gt;</th><th scope=col>&lt;int&gt;</th><th scope=col>&lt;int&gt;</th><th scope=col>&lt;int&gt;</th><th scope=col>&lt;dbl&gt;</th></tr>\n",
       "</thead>\n",
       "<tbody>\n",
       "\t<tr><th scope=row>1</th><td>000f1445-945e-48da-9a6f-0cac103ca7a3</td><td>2023-01-12T08:16:21.233Z</td><td>0-25</td><td>osrednjeslovenska</td><td>spomin</td><td>10</td><td> 4</td><td>7</td><td>5</td><td>6</td><td>4</td><td>3</td><td>0.7500000</td></tr>\n",
       "\t<tr><th scope=row>2</th><td>002bc375-035c-4694-84d2-9c51746d8aa6</td><td>2023-01-10T13:04:10.750Z</td><td>0-25</td><td>osrednjeslovenska</td><td>e     </td><td>10</td><td> 7</td><td>5</td><td>5</td><td>6</td><td>2</td><td>2</td><td>1.0000000</td></tr>\n",
       "\t<tr><th scope=row>3</th><td>02d7448d-9dd2-4115-a512-d4f1a9761aa7</td><td>2023-01-11T09:11:57.043Z</td><td>0-25</td><td>osrednjeslovenska</td><td>c     </td><td> 9</td><td> 9</td><td>7</td><td>5</td><td>9</td><td>1</td><td>1</td><td>1.0000000</td></tr>\n",
       "\t<tr><th scope=row>4</th><td>037498ef-663e-44c2-b628-bfd2eeb06861</td><td>2023-01-12T08:14:54.803Z</td><td>0-25</td><td>podravska        </td><td>b     </td><td> 9</td><td> 8</td><td>9</td><td>7</td><td>6</td><td>2</td><td>2</td><td>1.0000000</td></tr>\n",
       "\t<tr><th scope=row>5</th><td>04346d1e-81a7-43dc-9eb6-b745436aad8f</td><td>2023-01-10T13:05:29.078Z</td><td>0-25</td><td>goriska          </td><td>e     </td><td> 9</td><td>10</td><td>7</td><td>7</td><td>7</td><td>3</td><td>2</td><td>0.6666667</td></tr>\n",
       "\t<tr><th scope=row>6</th><td>0450f190-731d-4c44-86b4-324fe1d93da2</td><td>2023-01-10T13:05:39.833Z</td><td>0-25</td><td>osrednjeslovenska</td><td>spomin</td><td> 8</td><td>10</td><td>6</td><td>4</td><td>7</td><td>2</td><td>2</td><td>1.0000000</td></tr>\n",
       "</tbody>\n",
       "</table>\n"
      ],
      "text/latex": [
       "A data.frame: 6 × 13\n",
       "\\begin{tabular}{r|lllllllllllll}\n",
       "  & id\\_i & timestamp & age & region & grades & responsibility & employment & competition & gini & privatization & slovenia\\_an\\_option & slovenia\\_selected & slov\\_score\\\\\n",
       "  & <chr> & <chr> & <chr> & <chr> & <chr> & <int> & <int> & <int> & <int> & <int> & <int> & <int> & <dbl>\\\\\n",
       "\\hline\n",
       "\t1 & 000f1445-945e-48da-9a6f-0cac103ca7a3 & 2023-01-12T08:16:21.233Z & 0-25 & osrednjeslovenska & spomin & 10 &  4 & 7 & 5 & 6 & 4 & 3 & 0.7500000\\\\\n",
       "\t2 & 002bc375-035c-4694-84d2-9c51746d8aa6 & 2023-01-10T13:04:10.750Z & 0-25 & osrednjeslovenska & e      & 10 &  7 & 5 & 5 & 6 & 2 & 2 & 1.0000000\\\\\n",
       "\t3 & 02d7448d-9dd2-4115-a512-d4f1a9761aa7 & 2023-01-11T09:11:57.043Z & 0-25 & osrednjeslovenska & c      &  9 &  9 & 7 & 5 & 9 & 1 & 1 & 1.0000000\\\\\n",
       "\t4 & 037498ef-663e-44c2-b628-bfd2eeb06861 & 2023-01-12T08:14:54.803Z & 0-25 & podravska         & b      &  9 &  8 & 9 & 7 & 6 & 2 & 2 & 1.0000000\\\\\n",
       "\t5 & 04346d1e-81a7-43dc-9eb6-b745436aad8f & 2023-01-10T13:05:29.078Z & 0-25 & goriska           & e      &  9 & 10 & 7 & 7 & 7 & 3 & 2 & 0.6666667\\\\\n",
       "\t6 & 0450f190-731d-4c44-86b4-324fe1d93da2 & 2023-01-10T13:05:39.833Z & 0-25 & osrednjeslovenska & spomin &  8 & 10 & 6 & 4 & 7 & 2 & 2 & 1.0000000\\\\\n",
       "\\end{tabular}\n"
      ],
      "text/markdown": [
       "\n",
       "A data.frame: 6 × 13\n",
       "\n",
       "| <!--/--> | id_i &lt;chr&gt; | timestamp &lt;chr&gt; | age &lt;chr&gt; | region &lt;chr&gt; | grades &lt;chr&gt; | responsibility &lt;int&gt; | employment &lt;int&gt; | competition &lt;int&gt; | gini &lt;int&gt; | privatization &lt;int&gt; | slovenia_an_option &lt;int&gt; | slovenia_selected &lt;int&gt; | slov_score &lt;dbl&gt; |\n",
       "|---|---|---|---|---|---|---|---|---|---|---|---|---|---|\n",
       "| 1 | 000f1445-945e-48da-9a6f-0cac103ca7a3 | 2023-01-12T08:16:21.233Z | 0-25 | osrednjeslovenska | spomin | 10 |  4 | 7 | 5 | 6 | 4 | 3 | 0.7500000 |\n",
       "| 2 | 002bc375-035c-4694-84d2-9c51746d8aa6 | 2023-01-10T13:04:10.750Z | 0-25 | osrednjeslovenska | e      | 10 |  7 | 5 | 5 | 6 | 2 | 2 | 1.0000000 |\n",
       "| 3 | 02d7448d-9dd2-4115-a512-d4f1a9761aa7 | 2023-01-11T09:11:57.043Z | 0-25 | osrednjeslovenska | c      |  9 |  9 | 7 | 5 | 9 | 1 | 1 | 1.0000000 |\n",
       "| 4 | 037498ef-663e-44c2-b628-bfd2eeb06861 | 2023-01-12T08:14:54.803Z | 0-25 | podravska         | b      |  9 |  8 | 9 | 7 | 6 | 2 | 2 | 1.0000000 |\n",
       "| 5 | 04346d1e-81a7-43dc-9eb6-b745436aad8f | 2023-01-10T13:05:29.078Z | 0-25 | goriska           | e      |  9 | 10 | 7 | 7 | 7 | 3 | 2 | 0.6666667 |\n",
       "| 6 | 0450f190-731d-4c44-86b4-324fe1d93da2 | 2023-01-10T13:05:39.833Z | 0-25 | osrednjeslovenska | spomin |  8 | 10 | 6 | 4 | 7 | 2 | 2 | 1.0000000 |\n",
       "\n"
      ],
      "text/plain": [
       "  id_i                                 timestamp                age \n",
       "1 000f1445-945e-48da-9a6f-0cac103ca7a3 2023-01-12T08:16:21.233Z 0-25\n",
       "2 002bc375-035c-4694-84d2-9c51746d8aa6 2023-01-10T13:04:10.750Z 0-25\n",
       "3 02d7448d-9dd2-4115-a512-d4f1a9761aa7 2023-01-11T09:11:57.043Z 0-25\n",
       "4 037498ef-663e-44c2-b628-bfd2eeb06861 2023-01-12T08:14:54.803Z 0-25\n",
       "5 04346d1e-81a7-43dc-9eb6-b745436aad8f 2023-01-10T13:05:29.078Z 0-25\n",
       "6 0450f190-731d-4c44-86b4-324fe1d93da2 2023-01-10T13:05:39.833Z 0-25\n",
       "  region            grades responsibility employment competition gini\n",
       "1 osrednjeslovenska spomin 10              4         7           5   \n",
       "2 osrednjeslovenska e      10              7         5           5   \n",
       "3 osrednjeslovenska c       9              9         7           5   \n",
       "4 podravska         b       9              8         9           7   \n",
       "5 goriska           e       9             10         7           7   \n",
       "6 osrednjeslovenska spomin  8             10         6           4   \n",
       "  privatization slovenia_an_option slovenia_selected slov_score\n",
       "1 6             4                  3                 0.7500000 \n",
       "2 6             2                  2                 1.0000000 \n",
       "3 9             1                  1                 1.0000000 \n",
       "4 6             2                  2                 1.0000000 \n",
       "5 7             3                  2                 0.6666667 \n",
       "6 7             2                  2                 1.0000000 "
      ]
     },
     "metadata": {},
     "output_type": "display_data"
    }
   ],
   "source": [
    "data_all <- read.csv('data_all.csv', header = TRUE)\n",
    "data_all <- data_all[, -c(3,4)]\n",
    "head(data_all)"
   ]
  },
  {
   "cell_type": "code",
   "execution_count": 3,
   "metadata": {
    "vscode": {
     "languageId": "r"
    }
   },
   "outputs": [
    {
     "data": {
      "text/plain": [
       "     id_i            timestamp             age               region         \n",
       " Length:236         Length:236         Length:236         Length:236        \n",
       " Class :character   Class :character   Class :character   Class :character  \n",
       " Mode  :character   Mode  :character   Mode  :character   Mode  :character  \n",
       "                                                                            \n",
       "                                                                            \n",
       "                                                                            \n",
       "    grades          responsibility     employment      competition    \n",
       " Length:236         Min.   : 1.000   Min.   : 1.000   Min.   : 1.000  \n",
       " Class :character   1st Qu.: 8.000   1st Qu.: 5.750   1st Qu.: 7.000  \n",
       " Mode  :character   Median : 8.000   Median : 8.000   Median : 8.000  \n",
       "                    Mean   : 8.335   Mean   : 7.284   Mean   : 7.555  \n",
       "                    3rd Qu.:10.000   3rd Qu.: 9.000   3rd Qu.: 9.000  \n",
       "                    Max.   :10.000   Max.   :10.000   Max.   :10.000  \n",
       "      gini        privatization    slovenia_an_option slovenia_selected\n",
       " Min.   : 1.000   Min.   : 1.000   Min.   :0.000      Min.   :0.000    \n",
       " 1st Qu.: 3.000   1st Qu.: 5.000   1st Qu.:2.000      1st Qu.:1.000    \n",
       " Median : 5.000   Median : 6.000   Median :3.000      Median :2.000    \n",
       " Mean   : 5.356   Mean   : 6.453   Mean   :3.093      Mean   :2.479    \n",
       " 3rd Qu.: 7.000   3rd Qu.: 8.000   3rd Qu.:4.000      3rd Qu.:3.000    \n",
       " Max.   :10.000   Max.   :10.000   Max.   :9.000      Max.   :7.000    \n",
       "   slov_score    \n",
       " Min.   :0.0000  \n",
       " 1st Qu.:0.6667  \n",
       " Median :1.0000  \n",
       " Mean   :0.8004  \n",
       " 3rd Qu.:1.0000  \n",
       " Max.   :1.0000  "
      ]
     },
     "metadata": {},
     "output_type": "display_data"
    },
    {
     "name": "stdout",
     "output_type": "stream",
     "text": [
      "── Data Summary ────────────────────────\n",
      "                           Values  \n",
      "Name                       data_all\n",
      "Number of rows             236     \n",
      "Number of columns          13      \n",
      "_______________________            \n",
      "Column type frequency:             \n",
      "  character                5       \n",
      "  numeric                  8       \n",
      "________________________           \n",
      "Group variables            None    \n",
      "\n",
      "── Variable type: character ────────────────────────────────────────────────────\n",
      "  skim_variable n_missing complete_rate min max empty n_unique whitespace\n",
      "\u001b[90m1\u001b[39m id_i                  0             1  36  36     0      236          0\n",
      "\u001b[90m2\u001b[39m timestamp             0             1  24  24     0      236          0\n",
      "\u001b[90m3\u001b[39m age                   0             1   4   5     0        3          0\n",
      "\u001b[90m4\u001b[39m region                0             1   7  20     0       12          0\n",
      "\u001b[90m5\u001b[39m grades                0             1   1   6     0        7          0\n",
      "\n",
      "── Variable type: numeric ──────────────────────────────────────────────────────\n",
      "  skim_variable      n_missing complete_rate  mean    sd p0   p25 p50 p75 p100\n",
      "\u001b[90m1\u001b[39m responsibility             0             1 8.33  1.53   1 8       8  10   10\n",
      "\u001b[90m2\u001b[39m employment                 0             1 7.28  2.45   1 5.75    8   9   10\n",
      "\u001b[90m3\u001b[39m competition                0             1 7.56  1.84   1 7       8   9   10\n",
      "\u001b[90m4\u001b[39m gini                       0             1 5.36  2.45   1 3       5   7   10\n",
      "\u001b[90m5\u001b[39m privatization              0             1 6.45  2.41   1 5       6   8   10\n",
      "\u001b[90m6\u001b[39m slovenia_an_option         0             1 3.09  1.63   0 2       3   4    9\n",
      "\u001b[90m7\u001b[39m slovenia_selected          0             1 2.48  1.50   0 1       2   3    7\n",
      "\u001b[90m8\u001b[39m slov_score                 0             1 0.800 0.301  0 0.667   1   1    1\n",
      "  hist \n",
      "\u001b[90m1\u001b[39m ▁▁▁▇▇\n",
      "\u001b[90m2\u001b[39m ▁▂▃▆▇\n",
      "\u001b[90m3\u001b[39m ▁▁▃▇▅\n",
      "\u001b[90m4\u001b[39m ▃▆▇▆▃\n",
      "\u001b[90m5\u001b[39m ▂▂▇▆▆\n",
      "\u001b[90m6\u001b[39m ▂▇▅▁▁\n",
      "\u001b[90m7\u001b[39m ▇▇▇▂▁\n",
      "\u001b[90m8\u001b[39m ▁▁▂▂▇\n"
     ]
    },
    {
     "name": "stderr",
     "output_type": "stream",
     "text": [
      "Warning message in is.null(text_repr) || nchar(text_repr) == 0L:\n",
      "\"'length(x) = 17 > 1' in coercion to 'logical(1)'\"\n"
     ]
    },
    {
     "data": {
      "text/html": [
       "<table class=\"dataframe\">\n",
       "<caption>A skim_df: 13 × 17</caption>\n",
       "<thead>\n",
       "\t<tr><th></th><th scope=col>skim_type</th><th scope=col>skim_variable</th><th scope=col>n_missing</th><th scope=col>complete_rate</th><th scope=col>character.min</th><th scope=col>character.max</th><th scope=col>character.empty</th><th scope=col>character.n_unique</th><th scope=col>character.whitespace</th><th scope=col>numeric.mean</th><th scope=col>numeric.sd</th><th scope=col>numeric.p0</th><th scope=col>numeric.p25</th><th scope=col>numeric.p50</th><th scope=col>numeric.p75</th><th scope=col>numeric.p100</th><th scope=col>numeric.hist</th></tr>\n",
       "\t<tr><th></th><th scope=col>&lt;chr&gt;</th><th scope=col>&lt;chr&gt;</th><th scope=col>&lt;int&gt;</th><th scope=col>&lt;dbl&gt;</th><th scope=col>&lt;int&gt;</th><th scope=col>&lt;int&gt;</th><th scope=col>&lt;int&gt;</th><th scope=col>&lt;int&gt;</th><th scope=col>&lt;int&gt;</th><th scope=col>&lt;dbl&gt;</th><th scope=col>&lt;dbl&gt;</th><th scope=col>&lt;dbl&gt;</th><th scope=col>&lt;dbl&gt;</th><th scope=col>&lt;dbl&gt;</th><th scope=col>&lt;dbl&gt;</th><th scope=col>&lt;dbl&gt;</th><th scope=col>&lt;chr&gt;</th></tr>\n",
       "</thead>\n",
       "<tbody>\n",
       "\t<tr><th scope=row>1</th><td>character</td><td>id_i              </td><td>0</td><td>1</td><td>36</td><td>36</td><td> 0</td><td>236</td><td> 0</td><td>       NA</td><td>       NA</td><td>NA</td><td>       NA</td><td>NA</td><td>NA</td><td>NA</td><td>NA   </td></tr>\n",
       "\t<tr><th scope=row>2</th><td>character</td><td>timestamp         </td><td>0</td><td>1</td><td>24</td><td>24</td><td> 0</td><td>236</td><td> 0</td><td>       NA</td><td>       NA</td><td>NA</td><td>       NA</td><td>NA</td><td>NA</td><td>NA</td><td>NA   </td></tr>\n",
       "\t<tr><th scope=row>3</th><td>character</td><td>age               </td><td>0</td><td>1</td><td> 4</td><td> 5</td><td> 0</td><td>  3</td><td> 0</td><td>       NA</td><td>       NA</td><td>NA</td><td>       NA</td><td>NA</td><td>NA</td><td>NA</td><td>NA   </td></tr>\n",
       "\t<tr><th scope=row>4</th><td>character</td><td>region            </td><td>0</td><td>1</td><td> 7</td><td>20</td><td> 0</td><td> 12</td><td> 0</td><td>       NA</td><td>       NA</td><td>NA</td><td>       NA</td><td>NA</td><td>NA</td><td>NA</td><td>NA   </td></tr>\n",
       "\t<tr><th scope=row>5</th><td>character</td><td>grades            </td><td>0</td><td>1</td><td> 1</td><td> 6</td><td> 0</td><td>  7</td><td> 0</td><td>       NA</td><td>       NA</td><td>NA</td><td>       NA</td><td>NA</td><td>NA</td><td>NA</td><td>NA   </td></tr>\n",
       "\t<tr><th scope=row>6</th><td>numeric  </td><td>responsibility    </td><td>0</td><td>1</td><td>NA</td><td>NA</td><td>NA</td><td> NA</td><td>NA</td><td>8.3347458</td><td>1.5278341</td><td> 1</td><td>8.0000000</td><td> 8</td><td>10</td><td>10</td><td>▁▁▁▇▇</td></tr>\n",
       "\t<tr><th scope=row>7</th><td>numeric  </td><td>employment        </td><td>0</td><td>1</td><td>NA</td><td>NA</td><td>NA</td><td> NA</td><td>NA</td><td>7.2838983</td><td>2.4494713</td><td> 1</td><td>5.7500000</td><td> 8</td><td> 9</td><td>10</td><td>▁▂▃▆▇</td></tr>\n",
       "\t<tr><th scope=row>8</th><td>numeric  </td><td>competition       </td><td>0</td><td>1</td><td>NA</td><td>NA</td><td>NA</td><td> NA</td><td>NA</td><td>7.5550847</td><td>1.8384590</td><td> 1</td><td>7.0000000</td><td> 8</td><td> 9</td><td>10</td><td>▁▁▃▇▅</td></tr>\n",
       "\t<tr><th scope=row>9</th><td>numeric  </td><td>gini              </td><td>0</td><td>1</td><td>NA</td><td>NA</td><td>NA</td><td> NA</td><td>NA</td><td>5.3559322</td><td>2.4513146</td><td> 1</td><td>3.0000000</td><td> 5</td><td> 7</td><td>10</td><td>▃▆▇▆▃</td></tr>\n",
       "\t<tr><th scope=row>10</th><td>numeric  </td><td>privatization     </td><td>0</td><td>1</td><td>NA</td><td>NA</td><td>NA</td><td> NA</td><td>NA</td><td>6.4533898</td><td>2.4096325</td><td> 1</td><td>5.0000000</td><td> 6</td><td> 8</td><td>10</td><td>▂▂▇▆▆</td></tr>\n",
       "\t<tr><th scope=row>11</th><td>numeric  </td><td>slovenia_an_option</td><td>0</td><td>1</td><td>NA</td><td>NA</td><td>NA</td><td> NA</td><td>NA</td><td>3.0932203</td><td>1.6268350</td><td> 0</td><td>2.0000000</td><td> 3</td><td> 4</td><td> 9</td><td>▂▇▅▁▁</td></tr>\n",
       "\t<tr><th scope=row>12</th><td>numeric  </td><td>slovenia_selected </td><td>0</td><td>1</td><td>NA</td><td>NA</td><td>NA</td><td> NA</td><td>NA</td><td>2.4788136</td><td>1.5002043</td><td> 0</td><td>1.0000000</td><td> 2</td><td> 3</td><td> 7</td><td>▇▇▇▂▁</td></tr>\n",
       "\t<tr><th scope=row>13</th><td>numeric  </td><td>slov_score        </td><td>0</td><td>1</td><td>NA</td><td>NA</td><td>NA</td><td> NA</td><td>NA</td><td>0.8004237</td><td>0.3009806</td><td> 0</td><td>0.6666667</td><td> 1</td><td> 1</td><td> 1</td><td>▁▁▂▂▇</td></tr>\n",
       "</tbody>\n",
       "</table>\n"
      ],
      "text/latex": [
       "A skim\\_df: 13 × 17\n",
       "\\begin{tabular}{r|lllllllllllllllll}\n",
       "  & skim\\_type & skim\\_variable & n\\_missing & complete\\_rate & character.min & character.max & character.empty & character.n\\_unique & character.whitespace & numeric.mean & numeric.sd & numeric.p0 & numeric.p25 & numeric.p50 & numeric.p75 & numeric.p100 & numeric.hist\\\\\n",
       "  & <chr> & <chr> & <int> & <dbl> & <int> & <int> & <int> & <int> & <int> & <dbl> & <dbl> & <dbl> & <dbl> & <dbl> & <dbl> & <dbl> & <chr>\\\\\n",
       "\\hline\n",
       "\t1 & character & id\\_i               & 0 & 1 & 36 & 36 &  0 & 236 &  0 &        NA &        NA & NA &        NA & NA & NA & NA & NA   \\\\\n",
       "\t2 & character & timestamp          & 0 & 1 & 24 & 24 &  0 & 236 &  0 &        NA &        NA & NA &        NA & NA & NA & NA & NA   \\\\\n",
       "\t3 & character & age                & 0 & 1 &  4 &  5 &  0 &   3 &  0 &        NA &        NA & NA &        NA & NA & NA & NA & NA   \\\\\n",
       "\t4 & character & region             & 0 & 1 &  7 & 20 &  0 &  12 &  0 &        NA &        NA & NA &        NA & NA & NA & NA & NA   \\\\\n",
       "\t5 & character & grades             & 0 & 1 &  1 &  6 &  0 &   7 &  0 &        NA &        NA & NA &        NA & NA & NA & NA & NA   \\\\\n",
       "\t6 & numeric   & responsibility     & 0 & 1 & NA & NA & NA &  NA & NA & 8.3347458 & 1.5278341 &  1 & 8.0000000 &  8 & 10 & 10 & ▁▁▁▇▇\\\\\n",
       "\t7 & numeric   & employment         & 0 & 1 & NA & NA & NA &  NA & NA & 7.2838983 & 2.4494713 &  1 & 5.7500000 &  8 &  9 & 10 & ▁▂▃▆▇\\\\\n",
       "\t8 & numeric   & competition        & 0 & 1 & NA & NA & NA &  NA & NA & 7.5550847 & 1.8384590 &  1 & 7.0000000 &  8 &  9 & 10 & ▁▁▃▇▅\\\\\n",
       "\t9 & numeric   & gini               & 0 & 1 & NA & NA & NA &  NA & NA & 5.3559322 & 2.4513146 &  1 & 3.0000000 &  5 &  7 & 10 & ▃▆▇▆▃\\\\\n",
       "\t10 & numeric   & privatization      & 0 & 1 & NA & NA & NA &  NA & NA & 6.4533898 & 2.4096325 &  1 & 5.0000000 &  6 &  8 & 10 & ▂▂▇▆▆\\\\\n",
       "\t11 & numeric   & slovenia\\_an\\_option & 0 & 1 & NA & NA & NA &  NA & NA & 3.0932203 & 1.6268350 &  0 & 2.0000000 &  3 &  4 &  9 & ▂▇▅▁▁\\\\\n",
       "\t12 & numeric   & slovenia\\_selected  & 0 & 1 & NA & NA & NA &  NA & NA & 2.4788136 & 1.5002043 &  0 & 1.0000000 &  2 &  3 &  7 & ▇▇▇▂▁\\\\\n",
       "\t13 & numeric   & slov\\_score         & 0 & 1 & NA & NA & NA &  NA & NA & 0.8004237 & 0.3009806 &  0 & 0.6666667 &  1 &  1 &  1 & ▁▁▂▂▇\\\\\n",
       "\\end{tabular}\n"
      ],
      "text/markdown": [
       "\n",
       "A skim_df: 13 × 17\n",
       "\n",
       "| <!--/--> | skim_type &lt;chr&gt; | skim_variable &lt;chr&gt; | n_missing &lt;int&gt; | complete_rate &lt;dbl&gt; | character.min &lt;int&gt; | character.max &lt;int&gt; | character.empty &lt;int&gt; | character.n_unique &lt;int&gt; | character.whitespace &lt;int&gt; | numeric.mean &lt;dbl&gt; | numeric.sd &lt;dbl&gt; | numeric.p0 &lt;dbl&gt; | numeric.p25 &lt;dbl&gt; | numeric.p50 &lt;dbl&gt; | numeric.p75 &lt;dbl&gt; | numeric.p100 &lt;dbl&gt; | numeric.hist &lt;chr&gt; |\n",
       "|---|---|---|---|---|---|---|---|---|---|---|---|---|---|---|---|---|---|\n",
       "| 1 | character | id_i               | 0 | 1 | 36 | 36 |  0 | 236 |  0 |        NA |        NA | NA |        NA | NA | NA | NA | NA    |\n",
       "| 2 | character | timestamp          | 0 | 1 | 24 | 24 |  0 | 236 |  0 |        NA |        NA | NA |        NA | NA | NA | NA | NA    |\n",
       "| 3 | character | age                | 0 | 1 |  4 |  5 |  0 |   3 |  0 |        NA |        NA | NA |        NA | NA | NA | NA | NA    |\n",
       "| 4 | character | region             | 0 | 1 |  7 | 20 |  0 |  12 |  0 |        NA |        NA | NA |        NA | NA | NA | NA | NA    |\n",
       "| 5 | character | grades             | 0 | 1 |  1 |  6 |  0 |   7 |  0 |        NA |        NA | NA |        NA | NA | NA | NA | NA    |\n",
       "| 6 | numeric   | responsibility     | 0 | 1 | NA | NA | NA |  NA | NA | 8.3347458 | 1.5278341 |  1 | 8.0000000 |  8 | 10 | 10 | ▁▁▁▇▇ |\n",
       "| 7 | numeric   | employment         | 0 | 1 | NA | NA | NA |  NA | NA | 7.2838983 | 2.4494713 |  1 | 5.7500000 |  8 |  9 | 10 | ▁▂▃▆▇ |\n",
       "| 8 | numeric   | competition        | 0 | 1 | NA | NA | NA |  NA | NA | 7.5550847 | 1.8384590 |  1 | 7.0000000 |  8 |  9 | 10 | ▁▁▃▇▅ |\n",
       "| 9 | numeric   | gini               | 0 | 1 | NA | NA | NA |  NA | NA | 5.3559322 | 2.4513146 |  1 | 3.0000000 |  5 |  7 | 10 | ▃▆▇▆▃ |\n",
       "| 10 | numeric   | privatization      | 0 | 1 | NA | NA | NA |  NA | NA | 6.4533898 | 2.4096325 |  1 | 5.0000000 |  6 |  8 | 10 | ▂▂▇▆▆ |\n",
       "| 11 | numeric   | slovenia_an_option | 0 | 1 | NA | NA | NA |  NA | NA | 3.0932203 | 1.6268350 |  0 | 2.0000000 |  3 |  4 |  9 | ▂▇▅▁▁ |\n",
       "| 12 | numeric   | slovenia_selected  | 0 | 1 | NA | NA | NA |  NA | NA | 2.4788136 | 1.5002043 |  0 | 1.0000000 |  2 |  3 |  7 | ▇▇▇▂▁ |\n",
       "| 13 | numeric   | slov_score         | 0 | 1 | NA | NA | NA |  NA | NA | 0.8004237 | 0.3009806 |  0 | 0.6666667 |  1 |  1 |  1 | ▁▁▂▂▇ |\n",
       "\n"
      ],
      "text/plain": []
     },
     "metadata": {},
     "output_type": "display_data"
    }
   ],
   "source": [
    "summary(data_all)\n",
    "skim(data_all)"
   ]
  },
  {
   "cell_type": "code",
   "execution_count": 4,
   "metadata": {
    "vscode": {
     "languageId": "r"
    }
   },
   "outputs": [
    {
     "data": {
      "text/html": [
       "0"
      ],
      "text/latex": [
       "0"
      ],
      "text/markdown": [
       "0"
      ],
      "text/plain": [
       "[1] 0"
      ]
     },
     "metadata": {},
     "output_type": "display_data"
    }
   ],
   "source": [
    "# again check for missing values\n",
    "sum(is.na(data_all))"
   ]
  },
  {
   "attachments": {},
   "cell_type": "markdown",
   "metadata": {},
   "source": [
    "The sample size equals 236, with no missing values. After reviewing the dataset summary, it appears that the variables age, region, and grades are represented as character values, and can be categorized as nominal variables. \n",
    "Furthermore, we can observe that age, region and grades occupy 3, 12 and 7 distinct values within the dataset, respectively.\n",
    "\n",
    "Conversely, the remaining variables which consist of different statements on macroeconomics, are assessed on a 10-point Likert scale, with each point indicating a distinct level of agreement or disagreement, thereby classifying them as ordinal variables. Based on the mean responses to the statements, it appears that the participants' highest level of agreement was with the responsibility statement, while the gini statement had the lowest level of agreement. Additionally, in the quirtile output we observe that in the majority of the statement variables, at least 50% of the responses range above 8 points on a scale of 10, which implies a non-parametric distribution. Although the gini statement shows values evenly distributed across quartiles, suggesting a normal distribution, this assumption requires further examination.\n",
    "\n",
    "But before that, let's take a look at the frequency analysis of the nominal variables.\n"
   ]
  },
  {
   "attachments": {},
   "cell_type": "markdown",
   "metadata": {},
   "source": [
    "### Nominal Variables"
   ]
  },
  {
   "cell_type": "code",
   "execution_count": 5,
   "metadata": {
    "vscode": {
     "languageId": "r"
    }
   },
   "outputs": [
    {
     "data": {
      "text/plain": [
       "\n",
       " 0-25 26-35 36-45 \n",
       "  228     5     3 "
      ]
     },
     "metadata": {},
     "output_type": "display_data"
    },
    {
     "data": {
      "text/plain": [
       "\n",
       " 0-25 26-35 36-45 \n",
       "0.966 0.021 0.013 "
      ]
     },
     "metadata": {},
     "output_type": "display_data"
    },
    {
     "name": "stderr",
     "output_type": "stream",
     "text": [
      "Loading required package: viridisLite\n",
      "\n"
     ]
    },
    {
     "data": {
      "image/png": "[encoded data removed]",
      "text/plain": [
       "Plot with title \"Barchart of Age Groups\""
      ]
     },
     "metadata": {
      "image/png": {
       "height": 420,
       "width": 420
      }
     },
     "output_type": "display_data"
    }
   ],
   "source": [
    "# age groups > 97% of the data represented by one group \n",
    "table(data_all$age)\n",
    "round(prop.table(table(data_all$age)), digits = 3)\n",
    "\n",
    "library('viridis')\n",
    "barplot(height = table(data_all$age), main = 'Barchart of Age Groups',\n",
    "        ylab = \"Frequency\", xlab = 'Age',\n",
    "        col = viridis(4), \n",
    "        width = 0.5, ylim = c(0, 250), las = 1)\n"
   ]
  },
  {
   "attachments": {},
   "cell_type": "markdown",
   "metadata": {},
   "source": [
    "As anticipated, almost all of the particiapnts (97 %) fall under or equal the age of 25, while the remaining three percent are between 26 and 45 years old."
   ]
  },
  {
   "cell_type": "code",
   "execution_count": 6,
   "metadata": {
    "vscode": {
     "languageId": "r"
    }
   },
   "outputs": [
    {
     "data": {
      "text/html": [
       "<table class=\"dataframe\">\n",
       "<caption>A data.frame: 6 × 13</caption>\n",
       "<thead>\n",
       "\t<tr><th></th><th scope=col>id_i</th><th scope=col>timestamp</th><th scope=col>age</th><th scope=col>region</th><th scope=col>grades</th><th scope=col>responsibility</th><th scope=col>employment</th><th scope=col>competition</th><th scope=col>gini</th><th scope=col>privatization</th><th scope=col>slovenia_an_option</th><th scope=col>slovenia_selected</th><th scope=col>slov_score</th></tr>\n",
       "\t<tr><th></th><th scope=col>&lt;chr&gt;</th><th scope=col>&lt;chr&gt;</th><th scope=col>&lt;chr&gt;</th><th scope=col>&lt;chr&gt;</th><th scope=col>&lt;chr&gt;</th><th scope=col>&lt;int&gt;</th><th scope=col>&lt;int&gt;</th><th scope=col>&lt;int&gt;</th><th scope=col>&lt;int&gt;</th><th scope=col>&lt;int&gt;</th><th scope=col>&lt;int&gt;</th><th scope=col>&lt;int&gt;</th><th scope=col>&lt;dbl&gt;</th></tr>\n",
       "</thead>\n",
       "<tbody>\n",
       "\t<tr><th scope=row>1</th><td>000f1445-945e-48da-9a6f-0cac103ca7a3</td><td>2023-01-12T08:16:21.233Z</td><td>0-25</td><td>Osrednjeslovenska</td><td>spomin</td><td>10</td><td> 4</td><td>7</td><td>5</td><td>6</td><td>4</td><td>3</td><td>0.7500000</td></tr>\n",
       "\t<tr><th scope=row>2</th><td>002bc375-035c-4694-84d2-9c51746d8aa6</td><td>2023-01-10T13:04:10.750Z</td><td>0-25</td><td>Osrednjeslovenska</td><td>e     </td><td>10</td><td> 7</td><td>5</td><td>5</td><td>6</td><td>2</td><td>2</td><td>1.0000000</td></tr>\n",
       "\t<tr><th scope=row>3</th><td>02d7448d-9dd2-4115-a512-d4f1a9761aa7</td><td>2023-01-11T09:11:57.043Z</td><td>0-25</td><td>Osrednjeslovenska</td><td>c     </td><td> 9</td><td> 9</td><td>7</td><td>5</td><td>9</td><td>1</td><td>1</td><td>1.0000000</td></tr>\n",
       "\t<tr><th scope=row>4</th><td>037498ef-663e-44c2-b628-bfd2eeb06861</td><td>2023-01-12T08:14:54.803Z</td><td>0-25</td><td>Podravska        </td><td>b     </td><td> 9</td><td> 8</td><td>9</td><td>7</td><td>6</td><td>2</td><td>2</td><td>1.0000000</td></tr>\n",
       "\t<tr><th scope=row>5</th><td>04346d1e-81a7-43dc-9eb6-b745436aad8f</td><td>2023-01-10T13:05:29.078Z</td><td>0-25</td><td>Goriška          </td><td>e     </td><td> 9</td><td>10</td><td>7</td><td>7</td><td>7</td><td>3</td><td>2</td><td>0.6666667</td></tr>\n",
       "\t<tr><th scope=row>6</th><td>0450f190-731d-4c44-86b4-324fe1d93da2</td><td>2023-01-10T13:05:39.833Z</td><td>0-25</td><td>Osrednjeslovenska</td><td>spomin</td><td> 8</td><td>10</td><td>6</td><td>4</td><td>7</td><td>2</td><td>2</td><td>1.0000000</td></tr>\n",
       "</tbody>\n",
       "</table>\n"
      ],
      "text/latex": [
       "A data.frame: 6 × 13\n",
       "\\begin{tabular}{r|lllllllllllll}\n",
       "  & id\\_i & timestamp & age & region & grades & responsibility & employment & competition & gini & privatization & slovenia\\_an\\_option & slovenia\\_selected & slov\\_score\\\\\n",
       "  & <chr> & <chr> & <chr> & <chr> & <chr> & <int> & <int> & <int> & <int> & <int> & <int> & <int> & <dbl>\\\\\n",
       "\\hline\n",
       "\t1 & 000f1445-945e-48da-9a6f-0cac103ca7a3 & 2023-01-12T08:16:21.233Z & 0-25 & Osrednjeslovenska & spomin & 10 &  4 & 7 & 5 & 6 & 4 & 3 & 0.7500000\\\\\n",
       "\t2 & 002bc375-035c-4694-84d2-9c51746d8aa6 & 2023-01-10T13:04:10.750Z & 0-25 & Osrednjeslovenska & e      & 10 &  7 & 5 & 5 & 6 & 2 & 2 & 1.0000000\\\\\n",
       "\t3 & 02d7448d-9dd2-4115-a512-d4f1a9761aa7 & 2023-01-11T09:11:57.043Z & 0-25 & Osrednjeslovenska & c      &  9 &  9 & 7 & 5 & 9 & 1 & 1 & 1.0000000\\\\\n",
       "\t4 & 037498ef-663e-44c2-b628-bfd2eeb06861 & 2023-01-12T08:14:54.803Z & 0-25 & Podravska         & b      &  9 &  8 & 9 & 7 & 6 & 2 & 2 & 1.0000000\\\\\n",
       "\t5 & 04346d1e-81a7-43dc-9eb6-b745436aad8f & 2023-01-10T13:05:29.078Z & 0-25 & Goriška           & e      &  9 & 10 & 7 & 7 & 7 & 3 & 2 & 0.6666667\\\\\n",
       "\t6 & 0450f190-731d-4c44-86b4-324fe1d93da2 & 2023-01-10T13:05:39.833Z & 0-25 & Osrednjeslovenska & spomin &  8 & 10 & 6 & 4 & 7 & 2 & 2 & 1.0000000\\\\\n",
       "\\end{tabular}\n"
      ],
      "text/markdown": [
       "\n",
       "A data.frame: 6 × 13\n",
       "\n",
       "| <!--/--> | id_i &lt;chr&gt; | timestamp &lt;chr&gt; | age &lt;chr&gt; | region &lt;chr&gt; | grades &lt;chr&gt; | responsibility &lt;int&gt; | employment &lt;int&gt; | competition &lt;int&gt; | gini &lt;int&gt; | privatization &lt;int&gt; | slovenia_an_option &lt;int&gt; | slovenia_selected &lt;int&gt; | slov_score &lt;dbl&gt; |\n",
       "|---|---|---|---|---|---|---|---|---|---|---|---|---|---|\n",
       "| 1 | 000f1445-945e-48da-9a6f-0cac103ca7a3 | 2023-01-12T08:16:21.233Z | 0-25 | Osrednjeslovenska | spomin | 10 |  4 | 7 | 5 | 6 | 4 | 3 | 0.7500000 |\n",
       "| 2 | 002bc375-035c-4694-84d2-9c51746d8aa6 | 2023-01-10T13:04:10.750Z | 0-25 | Osrednjeslovenska | e      | 10 |  7 | 5 | 5 | 6 | 2 | 2 | 1.0000000 |\n",
       "| 3 | 02d7448d-9dd2-4115-a512-d4f1a9761aa7 | 2023-01-11T09:11:57.043Z | 0-25 | Osrednjeslovenska | c      |  9 |  9 | 7 | 5 | 9 | 1 | 1 | 1.0000000 |\n",
       "| 4 | 037498ef-663e-44c2-b628-bfd2eeb06861 | 2023-01-12T08:14:54.803Z | 0-25 | Podravska         | b      |  9 |  8 | 9 | 7 | 6 | 2 | 2 | 1.0000000 |\n",
       "| 5 | 04346d1e-81a7-43dc-9eb6-b745436aad8f | 2023-01-10T13:05:29.078Z | 0-25 | Goriška           | e      |  9 | 10 | 7 | 7 | 7 | 3 | 2 | 0.6666667 |\n",
       "| 6 | 0450f190-731d-4c44-86b4-324fe1d93da2 | 2023-01-10T13:05:39.833Z | 0-25 | Osrednjeslovenska | spomin |  8 | 10 | 6 | 4 | 7 | 2 | 2 | 1.0000000 |\n",
       "\n"
      ],
      "text/plain": [
       "  id_i                                 timestamp                age \n",
       "1 000f1445-945e-48da-9a6f-0cac103ca7a3 2023-01-12T08:16:21.233Z 0-25\n",
       "2 002bc375-035c-4694-84d2-9c51746d8aa6 2023-01-10T13:04:10.750Z 0-25\n",
       "3 02d7448d-9dd2-4115-a512-d4f1a9761aa7 2023-01-11T09:11:57.043Z 0-25\n",
       "4 037498ef-663e-44c2-b628-bfd2eeb06861 2023-01-12T08:14:54.803Z 0-25\n",
       "5 04346d1e-81a7-43dc-9eb6-b745436aad8f 2023-01-10T13:05:29.078Z 0-25\n",
       "6 0450f190-731d-4c44-86b4-324fe1d93da2 2023-01-10T13:05:39.833Z 0-25\n",
       "  region            grades responsibility employment competition gini\n",
       "1 Osrednjeslovenska spomin 10              4         7           5   \n",
       "2 Osrednjeslovenska e      10              7         5           5   \n",
       "3 Osrednjeslovenska c       9              9         7           5   \n",
       "4 Podravska         b       9              8         9           7   \n",
       "5 Goriška           e       9             10         7           7   \n",
       "6 Osrednjeslovenska spomin  8             10         6           4   \n",
       "  privatization slovenia_an_option slovenia_selected slov_score\n",
       "1 6             4                  3                 0.7500000 \n",
       "2 6             2                  2                 1.0000000 \n",
       "3 9             1                  1                 1.0000000 \n",
       "4 6             2                  2                 1.0000000 \n",
       "5 7             3                  2                 0.6666667 \n",
       "6 7             2                  2                 1.0000000 "
      ]
     },
     "metadata": {},
     "output_type": "display_data"
    }
   ],
   "source": [
    "# recoding to nicely looking names\n",
    "data_all <- mutate(data_all, region = recode(region, \n",
    "                \"gorenjska\" = \"Gorenjska\",\n",
    "                \"goriska\" = \"Goriška\",   \n",
    "                \"jv_slovenija\" = \"Jugovzhodna Slovenija\",\n",
    "                \"koroska\" = \"Koroška\",\n",
    "                \"obalno_kraska\" = \"Obalno-kraška\",\n",
    "                \"osrednjeslovenska\" = \"Osrednjeslovenska\",\n",
    "                \"podravska\" = \"Podravska\",\n",
    "                \"pomurska\" = \"Pomurska\",\n",
    "                \"posavska\" = \"Posavska\",\n",
    "                \"primorsko_notranjska\" = \"Primorsko-notranjska\",\n",
    "                \"savinjska\" = \"Savinjska\",\n",
    "                \"zasavska\" = \"Zasavska\"))\n",
    "head(data_all)"
   ]
  },
  {
   "cell_type": "code",
   "execution_count": 7,
   "metadata": {
    "vscode": {
     "languageId": "r"
    }
   },
   "outputs": [
    {
     "data": {
      "text/plain": [
       "\n",
       "            Gorenjska               Goriška Jugovzhodna Slovenija \n",
       "                   40                    14                    12 \n",
       "              Koroška         Obalno-kraška     Osrednjeslovenska \n",
       "                    5                    23                    98 \n",
       "            Podravska              Pomurska              Posavska \n",
       "                   12                     8                     2 \n",
       " Primorsko-notranjska             Savinjska              Zasavska \n",
       "                    4                    13                     5 "
      ]
     },
     "metadata": {},
     "output_type": "display_data"
    },
    {
     "data": {
      "text/plain": [
       "\n",
       "            Gorenjska               Goriška Jugovzhodna Slovenija \n",
       "                0.169                 0.059                 0.051 \n",
       "              Koroška         Obalno-kraška     Osrednjeslovenska \n",
       "                0.021                 0.097                 0.415 \n",
       "            Podravska              Pomurska              Posavska \n",
       "                0.051                 0.034                 0.008 \n",
       " Primorsko-notranjska             Savinjska              Zasavska \n",
       "                0.017                 0.055                 0.021 "
      ]
     },
     "metadata": {},
     "output_type": "display_data"
    },
    {
     "data": {
      "image/png": "[encoded data removed]",
      "text/plain": [
       "plot without title"
      ]
     },
     "metadata": {
      "image/png": {
       "height": 420,
       "width": 420
      }
     },
     "output_type": "display_data"
    }
   ],
   "source": [
    "# region\n",
    "table(data_all$region)\n",
    "round(prop.table(table(data_all$region)), digits = 3)\n",
    "\n",
    "ggplot(data_all, aes(x = region, fill = region)) +\n",
    "  geom_bar(width = 0.5) +  scale_fill_hue(c = 40) +\n",
    "  ggtitle('Barchart of Respondents Distribution by Region') +  xlab('Region') +   ylab('Frequency') +\n",
    "  theme_bw() +  theme(axis.text.x = element_text(angle = 60, hjust = 1), legend.position=\"none\")\n"
   ]
  },
  {
   "attachments": {},
   "cell_type": "markdown",
   "metadata": {},
   "source": [
    "Next, the bar graph shows that the largest share of participants reside in the Osrednjeslovenska region (42 %), followed by Gorenjska and Obalno-Kraška, with 17 % and 10 %, respectively. The smallest percentage, which is slightly below one precent of students comes from Posavska region. "
   ]
  },
  {
   "cell_type": "code",
   "execution_count": 8,
   "metadata": {
    "vscode": {
     "languageId": "r"
    }
   },
   "outputs": [
    {
     "data": {
      "text/html": [
       "<style>\n",
       ".list-inline {list-style: none; margin:0; padding: 0}\n",
       ".list-inline>li {display: inline-block}\n",
       ".list-inline>li:not(:last-child)::after {content: \"\\00b7\"; padding: 0 .5ex}\n",
       "</style>\n",
       "<ol class=list-inline><li>'spomin'</li><li>'e'</li><li>'c'</li><li>'b'</li><li>'a'</li><li>'nula'</li><li>'d'</li></ol>\n"
      ],
      "text/latex": [
       "\\begin{enumerate*}\n",
       "\\item 'spomin'\n",
       "\\item 'e'\n",
       "\\item 'c'\n",
       "\\item 'b'\n",
       "\\item 'a'\n",
       "\\item 'nula'\n",
       "\\item 'd'\n",
       "\\end{enumerate*}\n"
      ],
      "text/markdown": [
       "1. 'spomin'\n",
       "2. 'e'\n",
       "3. 'c'\n",
       "4. 'b'\n",
       "5. 'a'\n",
       "6. 'nula'\n",
       "7. 'd'\n",
       "\n",
       "\n"
      ],
      "text/plain": [
       "[1] \"spomin\" \"e\"      \"c\"      \"b\"      \"a\"      \"nula\"   \"d\"     "
      ]
     },
     "metadata": {},
     "output_type": "display_data"
    },
    {
     "data": {
      "text/html": [
       "<table class=\"dataframe\">\n",
       "<caption>A data.frame: 6 × 13</caption>\n",
       "<thead>\n",
       "\t<tr><th></th><th scope=col>id_i</th><th scope=col>timestamp</th><th scope=col>age</th><th scope=col>region</th><th scope=col>grades</th><th scope=col>responsibility</th><th scope=col>employment</th><th scope=col>competition</th><th scope=col>gini</th><th scope=col>privatization</th><th scope=col>slovenia_an_option</th><th scope=col>slovenia_selected</th><th scope=col>slov_score</th></tr>\n",
       "\t<tr><th></th><th scope=col>&lt;chr&gt;</th><th scope=col>&lt;chr&gt;</th><th scope=col>&lt;chr&gt;</th><th scope=col>&lt;chr&gt;</th><th scope=col>&lt;chr&gt;</th><th scope=col>&lt;int&gt;</th><th scope=col>&lt;int&gt;</th><th scope=col>&lt;int&gt;</th><th scope=col>&lt;int&gt;</th><th scope=col>&lt;int&gt;</th><th scope=col>&lt;int&gt;</th><th scope=col>&lt;int&gt;</th><th scope=col>&lt;dbl&gt;</th></tr>\n",
       "</thead>\n",
       "<tbody>\n",
       "\t<tr><th scope=row>1</th><td>000f1445-945e-48da-9a6f-0cac103ca7a3</td><td>2023-01-12T08:16:21.233Z</td><td>0-25</td><td>Osrednjeslovenska</td><td>I do not remember</td><td>10</td><td> 4</td><td>7</td><td>5</td><td>6</td><td>4</td><td>3</td><td>0.7500000</td></tr>\n",
       "\t<tr><th scope=row>2</th><td>002bc375-035c-4694-84d2-9c51746d8aa6</td><td>2023-01-10T13:04:10.750Z</td><td>0-25</td><td>Osrednjeslovenska</td><td>31 or more       </td><td>10</td><td> 7</td><td>5</td><td>5</td><td>6</td><td>2</td><td>2</td><td>1.0000000</td></tr>\n",
       "\t<tr><th scope=row>3</th><td>02d7448d-9dd2-4115-a512-d4f1a9761aa7</td><td>2023-01-11T09:11:57.043Z</td><td>0-25</td><td>Osrednjeslovenska</td><td>from 21 to 25    </td><td> 9</td><td> 9</td><td>7</td><td>5</td><td>9</td><td>1</td><td>1</td><td>1.0000000</td></tr>\n",
       "\t<tr><th scope=row>4</th><td>037498ef-663e-44c2-b628-bfd2eeb06861</td><td>2023-01-12T08:14:54.803Z</td><td>0-25</td><td>Podravska        </td><td>from 16 to 20    </td><td> 9</td><td> 8</td><td>9</td><td>7</td><td>6</td><td>2</td><td>2</td><td>1.0000000</td></tr>\n",
       "\t<tr><th scope=row>5</th><td>04346d1e-81a7-43dc-9eb6-b745436aad8f</td><td>2023-01-10T13:05:29.078Z</td><td>0-25</td><td>Goriška          </td><td>31 or more       </td><td> 9</td><td>10</td><td>7</td><td>7</td><td>7</td><td>3</td><td>2</td><td>0.6666667</td></tr>\n",
       "\t<tr><th scope=row>6</th><td>0450f190-731d-4c44-86b4-324fe1d93da2</td><td>2023-01-10T13:05:39.833Z</td><td>0-25</td><td>Osrednjeslovenska</td><td>I do not remember</td><td> 8</td><td>10</td><td>6</td><td>4</td><td>7</td><td>2</td><td>2</td><td>1.0000000</td></tr>\n",
       "</tbody>\n",
       "</table>\n"
      ],
      "text/latex": [
       "A data.frame: 6 × 13\n",
       "\\begin{tabular}{r|lllllllllllll}\n",
       "  & id\\_i & timestamp & age & region & grades & responsibility & employment & competition & gini & privatization & slovenia\\_an\\_option & slovenia\\_selected & slov\\_score\\\\\n",
       "  & <chr> & <chr> & <chr> & <chr> & <chr> & <int> & <int> & <int> & <int> & <int> & <int> & <int> & <dbl>\\\\\n",
       "\\hline\n",
       "\t1 & 000f1445-945e-48da-9a6f-0cac103ca7a3 & 2023-01-12T08:16:21.233Z & 0-25 & Osrednjeslovenska & I do not remember & 10 &  4 & 7 & 5 & 6 & 4 & 3 & 0.7500000\\\\\n",
       "\t2 & 002bc375-035c-4694-84d2-9c51746d8aa6 & 2023-01-10T13:04:10.750Z & 0-25 & Osrednjeslovenska & 31 or more        & 10 &  7 & 5 & 5 & 6 & 2 & 2 & 1.0000000\\\\\n",
       "\t3 & 02d7448d-9dd2-4115-a512-d4f1a9761aa7 & 2023-01-11T09:11:57.043Z & 0-25 & Osrednjeslovenska & from 21 to 25     &  9 &  9 & 7 & 5 & 9 & 1 & 1 & 1.0000000\\\\\n",
       "\t4 & 037498ef-663e-44c2-b628-bfd2eeb06861 & 2023-01-12T08:14:54.803Z & 0-25 & Podravska         & from 16 to 20     &  9 &  8 & 9 & 7 & 6 & 2 & 2 & 1.0000000\\\\\n",
       "\t5 & 04346d1e-81a7-43dc-9eb6-b745436aad8f & 2023-01-10T13:05:29.078Z & 0-25 & Goriška           & 31 or more        &  9 & 10 & 7 & 7 & 7 & 3 & 2 & 0.6666667\\\\\n",
       "\t6 & 0450f190-731d-4c44-86b4-324fe1d93da2 & 2023-01-10T13:05:39.833Z & 0-25 & Osrednjeslovenska & I do not remember &  8 & 10 & 6 & 4 & 7 & 2 & 2 & 1.0000000\\\\\n",
       "\\end{tabular}\n"
      ],
      "text/markdown": [
       "\n",
       "A data.frame: 6 × 13\n",
       "\n",
       "| <!--/--> | id_i &lt;chr&gt; | timestamp &lt;chr&gt; | age &lt;chr&gt; | region &lt;chr&gt; | grades &lt;chr&gt; | responsibility &lt;int&gt; | employment &lt;int&gt; | competition &lt;int&gt; | gini &lt;int&gt; | privatization &lt;int&gt; | slovenia_an_option &lt;int&gt; | slovenia_selected &lt;int&gt; | slov_score &lt;dbl&gt; |\n",
       "|---|---|---|---|---|---|---|---|---|---|---|---|---|---|\n",
       "| 1 | 000f1445-945e-48da-9a6f-0cac103ca7a3 | 2023-01-12T08:16:21.233Z | 0-25 | Osrednjeslovenska | I do not remember | 10 |  4 | 7 | 5 | 6 | 4 | 3 | 0.7500000 |\n",
       "| 2 | 002bc375-035c-4694-84d2-9c51746d8aa6 | 2023-01-10T13:04:10.750Z | 0-25 | Osrednjeslovenska | 31 or more        | 10 |  7 | 5 | 5 | 6 | 2 | 2 | 1.0000000 |\n",
       "| 3 | 02d7448d-9dd2-4115-a512-d4f1a9761aa7 | 2023-01-11T09:11:57.043Z | 0-25 | Osrednjeslovenska | from 21 to 25     |  9 |  9 | 7 | 5 | 9 | 1 | 1 | 1.0000000 |\n",
       "| 4 | 037498ef-663e-44c2-b628-bfd2eeb06861 | 2023-01-12T08:14:54.803Z | 0-25 | Podravska         | from 16 to 20     |  9 |  8 | 9 | 7 | 6 | 2 | 2 | 1.0000000 |\n",
       "| 5 | 04346d1e-81a7-43dc-9eb6-b745436aad8f | 2023-01-10T13:05:29.078Z | 0-25 | Goriška           | 31 or more        |  9 | 10 | 7 | 7 | 7 | 3 | 2 | 0.6666667 |\n",
       "| 6 | 0450f190-731d-4c44-86b4-324fe1d93da2 | 2023-01-10T13:05:39.833Z | 0-25 | Osrednjeslovenska | I do not remember |  8 | 10 | 6 | 4 | 7 | 2 | 2 | 1.0000000 |\n",
       "\n"
      ],
      "text/plain": [
       "  id_i                                 timestamp                age \n",
       "1 000f1445-945e-48da-9a6f-0cac103ca7a3 2023-01-12T08:16:21.233Z 0-25\n",
       "2 002bc375-035c-4694-84d2-9c51746d8aa6 2023-01-10T13:04:10.750Z 0-25\n",
       "3 02d7448d-9dd2-4115-a512-d4f1a9761aa7 2023-01-11T09:11:57.043Z 0-25\n",
       "4 037498ef-663e-44c2-b628-bfd2eeb06861 2023-01-12T08:14:54.803Z 0-25\n",
       "5 04346d1e-81a7-43dc-9eb6-b745436aad8f 2023-01-10T13:05:29.078Z 0-25\n",
       "6 0450f190-731d-4c44-86b4-324fe1d93da2 2023-01-10T13:05:39.833Z 0-25\n",
       "  region            grades            responsibility employment competition\n",
       "1 Osrednjeslovenska I do not remember 10              4         7          \n",
       "2 Osrednjeslovenska 31 or more        10              7         5          \n",
       "3 Osrednjeslovenska from 21 to 25      9              9         7          \n",
       "4 Podravska         from 16 to 20      9              8         9          \n",
       "5 Goriška           31 or more         9             10         7          \n",
       "6 Osrednjeslovenska I do not remember  8             10         6          \n",
       "  gini privatization slovenia_an_option slovenia_selected slov_score\n",
       "1 5    6             4                  3                 0.7500000 \n",
       "2 5    6             2                  2                 1.0000000 \n",
       "3 5    9             1                  1                 1.0000000 \n",
       "4 7    6             2                  2                 1.0000000 \n",
       "5 7    7             3                  2                 0.6666667 \n",
       "6 4    7             2                  2                 1.0000000 "
      ]
     },
     "metadata": {},
     "output_type": "display_data"
    }
   ],
   "source": [
    "# grades \n",
    "unique(data_all$grades)\n",
    "\n",
    "\n",
    "# renaming grades to initial values and translated in English\n",
    "data_all <- mutate(data_all, grades = recode(grades, \n",
    "                'nula' = 'I did not take an exam',\n",
    "                'spomin' = 'I do not remember',   \n",
    "                'a' = 'up to 15',\n",
    "                'b' = 'from 16 to 20',\n",
    "                'c' = 'from 21 to 25',\n",
    "                'd' = 'from 26 to 30',\n",
    "                'e' = '31 or more'))\n",
    "head(data_all)"
   ]
  },
  {
   "cell_type": "code",
   "execution_count": 9,
   "metadata": {
    "vscode": {
     "languageId": "r"
    }
   },
   "outputs": [
    {
     "data": {
      "text/plain": [
       "\n",
       "            31 or more          from 16 to 20          from 21 to 25 \n",
       "                    16                     53                     81 \n",
       "         from 26 to 30 I did not take an exam      I do not remember \n",
       "                    34                      2                     41 \n",
       "              up to 15 \n",
       "                     9 "
      ]
     },
     "metadata": {},
     "output_type": "display_data"
    },
    {
     "data": {
      "text/plain": [
       "\n",
       "            31 or more          from 16 to 20          from 21 to 25 \n",
       "                 0.068                  0.225                  0.343 \n",
       "         from 26 to 30 I did not take an exam      I do not remember \n",
       "                 0.144                  0.008                  0.174 \n",
       "              up to 15 \n",
       "                 0.038 "
      ]
     },
     "metadata": {},
     "output_type": "display_data"
    }
   ],
   "source": [
    "table(data_all$grades)\n",
    "round(prop.table(table(data_all$grades)), digits = 3)"
   ]
  },
  {
   "cell_type": "code",
   "execution_count": 10,
   "metadata": {
    "vscode": {
     "languageId": "r"
    }
   },
   "outputs": [
    {
     "data": {
      "image/png": "[encoded data removed]",
      "text/plain": [
       "Plot with title \"Pie Chart of Final Scores at Matura Exam\""
      ]
     },
     "metadata": {
      "image/png": {
       "height": 420,
       "width": 420
      }
     },
     "output_type": "display_data"
    }
   ],
   "source": [
    "grades_ordered <- factor(data_all$grades, levels = c(\"I do not remember\", \"I did not take an exam\", \"up to 15\", \"from 16 to 20\", \"from 21 to 25\", \"from 26 to 30\", \"31 or more\"),\n",
    "                        ordered = TRUE)\n",
    "slices <- table(grades_ordered)\n",
    "\n",
    "library(RColorBrewer)\n",
    "myPalette <- brewer.pal(7, \"Set3\")\n",
    "pie(slices, labels = names(slices), main=\"Pie Chart of Final Scores at Matura Exam\", \n",
    "    col = myPalette, border = \"white\") "
   ]
  },
  {
   "attachments": {},
   "cell_type": "markdown",
   "metadata": {},
   "source": [
    "Upon examining the data for the groups representing the number of points scored by students on their high school final exam, it becomes apparent that slightly less than one-third (34%) of students scored between 21 and 25 points, representing also the largest share of students. The second-highest group with 22% comprised of students scoring between 16 and 20 points, followed by the group scoring between 26 and 30 points with 14 %. The number of students who achieved a score hihger than 31 points on the exam is 7 % in total."
   ]
  },
  {
   "cell_type": "code",
   "execution_count": 11,
   "metadata": {
    "vscode": {
     "languageId": "r"
    }
   },
   "outputs": [],
   "source": [
    "# treat ordinal var as numeric var\n",
    "# higher number will indicate a higher success on exam\n",
    "#recoding_rules <- c(\"nisem opravljal mature\" = NA,\n",
    "#                   \"se ne spomnim\" = 1,\n",
    "#                   \"do 15\" = 2,\n",
    "#                   \"od 16 do 20\" = 3,\n",
    "#                   \"od 21 do 25\" = 4,\n",
    "#                   \"od 26 do 30\" = 5,\n",
    "#                   \"31 ali več\" = 6)\n",
    "\n",
    "# loop over the grades column and recode each value\n",
    "#for (i in 1:length(data$grades)) {\n",
    "#  \n",
    "#  current_grade <- data$grades[i]\n",
    "#  recoded_grade <- recoding_rules[current_grade]\n",
    "#    data$grades[i] <- recoded_grade\n",
    "#}\n",
    "\n",
    "#data$grades <- as.numeric(data$grades)\n",
    "#head(data)"
   ]
  },
  {
   "attachments": {},
   "cell_type": "markdown",
   "metadata": {},
   "source": [
    "### Distributions of Ordinal Variables"
   ]
  },
  {
   "cell_type": "code",
   "execution_count": 51,
   "metadata": {
    "vscode": {
     "languageId": "r"
    }
   },
   "outputs": [
    {
     "data": {
      "image/png": "[encoded data removed]",
      "text/plain": [
       "Plot with title \"QQplot\""
      ]
     },
     "metadata": {
      "image/png": {
       "height": 420,
       "width": 420
      }
     },
     "output_type": "display_data"
    }
   ],
   "source": [
    "# check for distribution of each statement with hist and qq-plot\n",
    "library(viridis)\n",
    "par(mfrow = c(1,2))\n",
    "hist(data_all$responsibility, breaks = 'Scott', main = \"Histogram of Responsibility\",\n",
    "     xlab = \"Values\", ylab = \"Frequency\", col = magma(10), ylim = c(0, 80))\n",
    "qqnorm(data_all$responsibility, main = \"QQplot\", xlab = \"Values\", ylab = \"Frequency\")\n",
    "qqline(data_all$responsibility, col = \"red\")\n"
   ]
  },
  {
   "cell_type": "code",
   "execution_count": 13,
   "metadata": {
    "vscode": {
     "languageId": "r"
    }
   },
   "outputs": [
    {
     "data": {
      "image/png": "[encoded data removed]",
      "text/plain": [
       "Plot with title \"QQplot\""
      ]
     },
     "metadata": {
      "image/png": {
       "height": 420,
       "width": 420
      }
     },
     "output_type": "display_data"
    }
   ],
   "source": [
    "par(mfrow = c(1,2))\n",
    "hist(data_all$employment, breaks = 'Freedman-Diaconis', main = \"Histogram of Employment\",\n",
    "     xlab = \"Values\", ylab = \"Frequency\")\n",
    "qqnorm(data_all$employment, main = \"QQplot\", xlab = \"Values\", ylab = \"Frequency\")\n",
    "qqline(data_all$employment, col = \"red\")\n"
   ]
  },
  {
   "cell_type": "code",
   "execution_count": 14,
   "metadata": {
    "vscode": {
     "languageId": "r"
    }
   },
   "outputs": [
    {
     "data": {
      "image/png": "[encoded data removed]",
      "text/plain": [
       "Plot with title \"QQplot\""
      ]
     },
     "metadata": {
      "image/png": {
       "height": 420,
       "width": 420
      }
     },
     "output_type": "display_data"
    }
   ],
   "source": [
    "par(mfrow = c(1,2))\n",
    "hist(data_all$competition, breaks = 'Scott', main = \"Histogram of Competition\",\n",
    "     xlab = \"Values\", ylab = \"Frequency\")\n",
    "qqnorm(data_all$competition, main = \"QQplot\", xlab = \"Values\", ylab = \"Frequency\")\n",
    "qqline(data_all$competition, col = \"red\")\n"
   ]
  },
  {
   "cell_type": "code",
   "execution_count": 15,
   "metadata": {
    "vscode": {
     "languageId": "r"
    }
   },
   "outputs": [
    {
     "data": {
      "image/png": "[encoded data removed]",
      "text/plain": [
       "Plot with title \"QQplot\""
      ]
     },
     "metadata": {
      "image/png": {
       "height": 420,
       "width": 420
      }
     },
     "output_type": "display_data"
    }
   ],
   "source": [
    "par(mfrow = c(1,2))\n",
    "hist(data_all$gini, breaks = 'Freedman-Diaconis', main = \"Histogram of Gini\",\n",
    "     xlab = \"Values\", ylab = \"Frequency\")\n",
    "qqnorm(data_all$gini, main = \"QQplot\", xlab = \"Values\", ylab = \"Frequency\")\n",
    "qqline(data_all$gini, col = \"red\")"
   ]
  },
  {
   "cell_type": "code",
   "execution_count": 16,
   "metadata": {
    "vscode": {
     "languageId": "r"
    }
   },
   "outputs": [
    {
     "data": {
      "image/png": "[encoded data removed]",
      "text/plain": [
       "Plot with title \"QQplot\""
      ]
     },
     "metadata": {
      "image/png": {
       "height": 420,
       "width": 420
      }
     },
     "output_type": "display_data"
    }
   ],
   "source": [
    "par(mfrow = c(1,2))\n",
    "hist(data_all$privatization, breaks = 'Freedman-Diaconis', main = \"Histogram of Privatization\",\n",
    "     xlab = \"Values\", ylab = \"Frequency\", col = \"\")\n",
    "qqnorm(data_all$privatization, main = \"QQplot\", xlab = \"Values\", ylab = \"Frequency\")\n",
    "qqline(data_all$privatization, col = \"red\")"
   ]
  },
  {
   "attachments": {},
   "cell_type": "markdown",
   "metadata": {},
   "source": [
    "The histograms for responsibility, employment, and competition exhibit a significant left-skewed distribution with a prominent peak around the value of 8. Based on the first three additional Q-Q plots, it is evident that the data points deviate from the normal distribution line. Therefore, we can deduce that the distribution of the data is not normal. Moreover, the remaining two distributions, namely gini and competition, suggest a slightly negative kurtosis and deviation from a symmetrical distribution. Upon examining the Q-Q plots for both distributions, we observe that the majority of data points align with the normal distribution line, yet it remains unclear if the distribution is non-normal. To address this uncertainty, we will conduct additional tests such as the Shapiro-Wilk and Anderson tests."
   ]
  },
  {
   "cell_type": "code",
   "execution_count": 17,
   "metadata": {
    "vscode": {
     "languageId": "r"
    }
   },
   "outputs": [
    {
     "name": "stdout",
     "output_type": "stream",
     "text": [
      "        variable p_value\n",
      "1 responsibility       0\n",
      "2     employment       0\n",
      "3    competition       0\n",
      "4           gini       0\n",
      "5  privatization       0\n"
     ]
    }
   ],
   "source": [
    "# Shapiro-Wilk normality test\n",
    "library(nortest)\n",
    "\n",
    "data_numeric <- data_all[c('responsibility', 'employment', 'competition', 'gini', 'privatization')]\n",
    "\n",
    "sw_test_results <- data.frame(variable = character(), p_value = numeric(), stringsAsFactors = FALSE)\n",
    "\n",
    "options(scipen = 999)\n",
    "\n",
    "for (col in colnames(data_numeric)) {\n",
    "  test <- shapiro.test(data_numeric[[col]])\n",
    "  p_value_rounded <- round(test$p.value, 3)\n",
    "  sw_test_results <- rbind(sw_test_results, data.frame(variable = col, p_value = p_value_rounded, stringsAsFactors = FALSE))\n",
    "}\n",
    "\n",
    "\n",
    "print(sw_test_results)"
   ]
  },
  {
   "attachments": {},
   "cell_type": "markdown",
   "metadata": {},
   "source": [
    "The null hypothesis of the Shapiro-Wilk test suggests that the population from which a sample is drawn has a normal distribution. Given that the p-value in all of the statement variables is less than the level of significance (p < .05), we reject the nully hypothesis and conclude that the sample in all cases comes from a non-normal distribution / denoting the rejection of the null hypothesis at  a 0.1\\% level, signifying that the data is not normally distributed."
   ]
  },
  {
   "cell_type": "code",
   "execution_count": 18,
   "metadata": {
    "vscode": {
     "languageId": "r"
    }
   },
   "outputs": [
    {
     "name": "stderr",
     "output_type": "stream",
     "text": [
      "corrplot 0.92 loaded\n",
      "\n"
     ]
    },
    {
     "data": {
      "image/png": "[encoded data removed]",
      "text/plain": [
       "Plot with title \"\""
      ]
     },
     "metadata": {
      "image/png": {
       "height": 420,
       "width": 420
      }
     },
     "output_type": "display_data"
    }
   ],
   "source": [
    "# Spearman rank correlation\n",
    "library(corrplot)\n",
    "\n",
    "cor_data <- data_all[, c(\"responsibility\", \"employment\", \"competition\", \"gini\",\"privatization\", \"slov_score\")]\n",
    "\n",
    "cor_matrix <- cor(cor_data, method = 'spearman')\n",
    "\n",
    "cor_matrix_pv <- cor.mtest(cor_matrix, conf.level = 0.95)\n",
    "corrplot(cor_matrix, p.mat = cor_matrix_pv$p, method = \"color\", type = \"upper\", \n",
    "         tl.col = \"black\", tl.srt = 45, addCoef.col = \"black\")"
   ]
  },
  {
   "attachments": {},
   "cell_type": "markdown",
   "metadata": {},
   "source": [
    "In addition, we analyzed the Spearman rank correlation matrix to determine the extent to which the statement variables were associated with the outcome variable, i.e., the Slovenian score. However, the results show that the statement variables that we initially considered for predicting the Slovenian score are not significantly correlated, indicating that there is no linear relationship between them. As a consequence, this finding has implications for further developing the model. Specifically, this suggests that non-linear modeling techniques like decision trees or random forests might be more appropriate to use. Alternatively, we could explore the possibility of adding new variables that might help explain the prediction score of selecting Slovenia."
   ]
  },
  {
   "attachments": {},
   "cell_type": "markdown",
   "metadata": {},
   "source": [
    "### Relationship between grade groups and statements"
   ]
  },
  {
   "attachments": {},
   "cell_type": "markdown",
   "metadata": {},
   "source": [
    "After examining the Spearman rank correlation matrix, we decided to investigate whether there is a connection between student groups based on their exam scores and their responses to different macroeconomic statements. To ensure that the groups were comparable in size, we combined our initial six grade groups into four. This allowed us to perform a more robust analysis on the association between the student groups and their responses. Furthemore, we first used chi-square test to determine whether there is a significant association between two categorical variables. "
   ]
  },
  {
   "cell_type": "code",
   "execution_count": 19,
   "metadata": {
    "vscode": {
     "languageId": "r"
    }
   },
   "outputs": [
    {
     "data": {
      "text/html": [
       "<style>\n",
       ".list-inline {list-style: none; margin:0; padding: 0}\n",
       ".list-inline>li {display: inline-block}\n",
       ".list-inline>li:not(:last-child)::after {content: \"\\00b7\"; padding: 0 .5ex}\n",
       "</style>\n",
       "<ol class=list-inline><li>'I do not remember'</li><li>'31 or more'</li><li>'from 21 to 25'</li><li>'from 16 to 20'</li><li>'up to 15'</li><li>'I did not take an exam'</li><li>'from 26 to 30'</li></ol>\n"
      ],
      "text/latex": [
       "\\begin{enumerate*}\n",
       "\\item 'I do not remember'\n",
       "\\item '31 or more'\n",
       "\\item 'from 21 to 25'\n",
       "\\item 'from 16 to 20'\n",
       "\\item 'up to 15'\n",
       "\\item 'I did not take an exam'\n",
       "\\item 'from 26 to 30'\n",
       "\\end{enumerate*}\n"
      ],
      "text/markdown": [
       "1. 'I do not remember'\n",
       "2. '31 or more'\n",
       "3. 'from 21 to 25'\n",
       "4. 'from 16 to 20'\n",
       "5. 'up to 15'\n",
       "6. 'I did not take an exam'\n",
       "7. 'from 26 to 30'\n",
       "\n",
       "\n"
      ],
      "text/plain": [
       "[1] \"I do not remember\"      \"31 or more\"             \"from 21 to 25\"         \n",
       "[4] \"from 16 to 20\"          \"up to 15\"               \"I did not take an exam\"\n",
       "[7] \"from 26 to 30\"         "
      ]
     },
     "metadata": {},
     "output_type": "display_data"
    },
    {
     "data": {
      "text/plain": [
       "\n",
       "      No Recall      Low Scores Moderate Scores     High Scores \n",
       "             43              62              81              50 "
      ]
     },
     "metadata": {},
     "output_type": "display_data"
    }
   ],
   "source": [
    "# joining grups based on grades\n",
    "\n",
    "unique(data_all$grades) # unordered\n",
    "\n",
    "data_all$grades_joint <- data_all$grades\n",
    "    data_all$grades_joint <- car::recode(data_all$grades_joint, \"'I did not take an exam' = 'No Recall'; 'up to 15' = 'Low Scores'; 'from 21 to 25' = 'Moderate Scores'; 'from 26 to 30' = 'High Scores'\")\n",
    "    data_all$grades_joint[data_all$grades_joint == 'I do not remember'] <- 'No Recall'\n",
    "    data_all$grades_joint[data_all$grades_joint == 'from 16 to 20'] <- 'Low Scores'\n",
    "    data_all$grades_joint[data_all$grades_joint == '31 or more'] <- 'High Scores'\n",
    "    data_all$grades_joint <- factor(data_all$grades_joint, levels = c('No Recall', 'Low Scores', 'Moderate Scores', 'High Scores'))\n",
    "table(data_all$grades_joint)"
   ]
  },
  {
   "cell_type": "code",
   "execution_count": 44,
   "metadata": {
    "vscode": {
     "languageId": "r"
    }
   },
   "outputs": [
    {
     "data": {
      "image/png": "[encoded data removed]",
      "text/plain": [
       "Plot with title \"Pie Chart of Recoded Final Scores at Matura Exam\""
      ]
     },
     "metadata": {
      "image/png": {
       "height": 420,
       "width": 420
      }
     },
     "output_type": "display_data"
    }
   ],
   "source": [
    "pajek <- table(data_all$grades_joint)\n",
    "pie(pajek,  labels = names(pajek), main=\"Pie Chart of Recoded Final Scores at Matura Exam\", \n",
    "    col = myPalette, border = \"white\")"
   ]
  },
  {
   "cell_type": "code",
   "execution_count": 20,
   "metadata": {
    "vscode": {
     "languageId": "r"
    }
   },
   "outputs": [
    {
     "name": "stderr",
     "output_type": "stream",
     "text": [
      "Warning message in chisq.test(table(data_all$grades_joint, data_all$responsibility)):\n",
      "\"Chi-squared approximation may be incorrect\"\n",
      "Warning message in chisq.test(table(data_all$grades_joint, data_all$employment)):\n",
      "\"Chi-squared approximation may be incorrect\"\n",
      "Warning message in chisq.test(table(data_all$grades_joint, data_all$competition)):\n",
      "\"Chi-squared approximation may be incorrect\"\n",
      "Warning message in chisq.test(table(data_all$grades_joint, data_all$gini)):\n",
      "\"Chi-squared approximation may be incorrect\"\n",
      "Warning message in chisq.test(table(data_all$grades_joint, data_all$privatization)):\n",
      "\"Chi-squared approximation may be incorrect\"\n"
     ]
    },
    {
     "name": "stdout",
     "output_type": "stream",
     "text": [
      "        Variable P_value\n",
      "1 responsibility   0.062\n",
      "2     employment   0.757\n",
      "3    competition   0.550\n",
      "4           gini   0.524\n",
      "5  privatization   0.176\n"
     ]
    }
   ],
   "source": [
    "# check for chi-square > p-values are high > fail to reject null hypothesis\n",
    "library(broom)\n",
    "\n",
    "chi_tests <- list(\n",
    "    chisq.test(table(data_all$grades_joint, data_all$responsibility)),\n",
    "    chisq.test(table(data_all$grades_joint, data_all$employment)),\n",
    "    chisq.test(table(data_all$grades_joint, data_all$competition)),\n",
    "    chisq.test(table(data_all$grades_joint, data_all$gini)),\n",
    "    chisq.test(table(data_all$grades_joint, data_all$privatization))\n",
    ")\n",
    "\n",
    "results <- data.frame(\n",
    "  Variable = c(\"responsibility\", \"employment\", \"competition\", \"gini\", \"privatization\"),\n",
    "  P_value = round(sapply(chi_tests, function(x) x$p.value), 3)\n",
    ")\n",
    "\n",
    "print(results)"
   ]
  },
  {
   "cell_type": "code",
   "execution_count": 21,
   "metadata": {
    "vscode": {
     "languageId": "r"
    }
   },
   "outputs": [
    {
     "name": "stderr",
     "output_type": "stream",
     "text": [
      "Warning message in chisq.test(table(data_all$grades_joint, data_all$responsibility)):\n",
      "\"Chi-squared approximation may be incorrect\"\n",
      "Warning message in chisq.test(table(data_all$grades_joint, data_all$employment)):\n",
      "\"Chi-squared approximation may be incorrect\"\n",
      "Warning message in chisq.test(table(data_all$grades_joint, data_all$competition)):\n",
      "\"Chi-squared approximation may be incorrect\"\n",
      "Warning message in chisq.test(table(data_all$grades_joint, data_all$gini)):\n",
      "\"Chi-squared approximation may be incorrect\"\n",
      "Warning message in chisq.test(table(data_all$grades_joint, data_all$privatization)):\n",
      "\"Chi-squared approximation may be incorrect\"\n"
     ]
    },
    {
     "name": "stdout",
     "output_type": "stream",
     "text": [
      "        Variable    P_value\n",
      "1 responsibility 0.06235585\n",
      "2     employment 0.75725560\n",
      "3    competition 0.54996163\n",
      "4           gini 0.52395044\n",
      "5  privatization 0.17563805\n"
     ]
    }
   ],
   "source": [
    "# Chi-square test\n",
    "library(broom)\n",
    "\n",
    "tests <- list(\n",
    "  chisq.test(table(data_all$grades_joint, data_all$responsibility)),\n",
    "  chisq.test(table(data_all$grades_joint, data_all$employment)),\n",
    "  chisq.test(table(data_all$grades_joint, data_all$competition)),\n",
    "  chisq.test(table(data_all$grades_joint, data_all$gini)),\n",
    "  chisq.test(table(data_all$grades_joint, data_all$privatization))\n",
    ")\n",
    "\n",
    "results <- data.frame(\n",
    "  Variable = c(\"responsibility\", \"employment\", \"competition\", \"gini\", \"privatization\"),\n",
    "  P_value = sapply(tests, function(x) x$p.value)\n",
    ")\n",
    "\n",
    "print(results)"
   ]
  },
  {
   "attachments": {},
   "cell_type": "markdown",
   "metadata": {},
   "source": [
    "The chi-square test in most of the statements is not significant at 5 % level, meaning that there is not evidence to conclude that there is a significant association between the two categorical variables. This suggests that these statements may not be useful predictors of student performance on exams or their attitudes towards macroeconomic concepts. However, the p-value for the chi-square test of the statement measuring responsibility appears to be very close to the limit of acceptance level (p = 0.06), meaning that test result is borderline significant. In other words, this suggest that there may be a weak association between student groups and their responses to the statements measuring responsibility, but it is not strong enough to be considered statistically significant at a significant level of 0.05."
   ]
  },
  {
   "attachments": {},
   "cell_type": "markdown",
   "metadata": {},
   "source": [
    "Moreoever, we investigated the differences in the medians of the responses to the statements across different grade groups, using Kruskal-Wallis rank sum test and potted the groups using violin plot."
   ]
  },
  {
   "cell_type": "code",
   "execution_count": 22,
   "metadata": {
    "vscode": {
     "languageId": "r"
    }
   },
   "outputs": [
    {
     "name": "stdout",
     "output_type": "stream",
     "text": [
      "        Variable P_value\n",
      "1 responsibility   0.069\n",
      "2     employment   0.722\n",
      "3    competition   0.914\n",
      "4           gini   0.123\n",
      "5  privatization   0.063\n"
     ]
    }
   ],
   "source": [
    "# Kruskal-Wallis test\n",
    "\n",
    "tests <- list(\n",
    "  kruskal.test(data_all$responsibility ~ data_all$grades_joint),\n",
    "  kruskal.test(data_all$employment ~ data_all$grades_joint),\n",
    "  kruskal.test(data_all$competition ~ data_all$grades_joint),\n",
    "  kruskal.test(data_all$gini ~ data_all$grades_joint),\n",
    "  kruskal.test(data_all$privatization ~ data_all$grades_joint)\n",
    ")\n",
    "\n",
    "results <- data.frame(\n",
    "  Variable = c(\"responsibility\", \"employment\", \"competition\", \"gini\", \"privatization\"),\n",
    "  P_value = round(sapply(tests, function(x) x$p.value), 3)\n",
    ")\n",
    "\n",
    "print(results)\n"
   ]
  },
  {
   "attachments": {},
   "cell_type": "markdown",
   "metadata": {},
   "source": [
    "Using non-parametric Kruskal-Wallis test we aimed to determine if there is a significant difference in the medians of statement variables across the four groups reflecting the degree of success on final exam. Outputs from the kruskall-Wallis test in all cases is greater than .05, indicating that there is no sufficient evidence to reject null hypothesis. Therefore, we can conclude that the statement variables does not appear to be a strong predictor of the groups. However, statements regarding the responsibility and privatization, appear to be somewhat on the limit of the significance, indicating a potential difference of medians across groups. In order to gain additional insight into distribution of the data and any potential pattern, we created a violin plots of groups for each statement variable."
   ]
  },
  {
   "cell_type": "code",
   "execution_count": 23,
   "metadata": {
    "vscode": {
     "languageId": "r"
    }
   },
   "outputs": [
    {
     "data": {
      "image/png": "[encoded data removed]",
      "text/plain": [
       "plot without title"
      ]
     },
     "metadata": {
      "image/png": {
       "height": 420,
       "width": 420
      }
     },
     "output_type": "display_data"
    }
   ],
   "source": [
    "respon_box <- ggplot(data_all, aes(x = grades_joint, y = responsibility, fill = grades_joint)) + coord_flip() +\n",
    "  geom_boxplot(width = 0.6, alpha = 0.8) + \n",
    "  theme(legend.position=\"none\") +\n",
    "  scale_fill_brewer(palette=\"BuGn\") +\n",
    "  labs(x = \"Groups by Grade\", y = \"Degree of Agreement\") +\n",
    "  ggtitle(\"Distribution of Responsibility by Grade Groups\", subtitle = expression(italic(\" 'Individuals should take more responsibility for their lives.' \"))) \n",
    "respon_box"
   ]
  },
  {
   "cell_type": "code",
   "execution_count": 24,
   "metadata": {
    "vscode": {
     "languageId": "r"
    }
   },
   "outputs": [
    {
     "name": "stderr",
     "output_type": "stream",
     "text": [
      "Warning message:\n",
      "\"\u001b[1m\u001b[22mThe `fun.y` argument of `stat_summary()` is deprecated as of ggplot2 3.3.0.\n",
      "\u001b[36mℹ\u001b[39m Please use the `fun` argument instead.\"\n"
     ]
    },
    {
     "data": {
      "image/png": "[encoded data removed]",
      "text/plain": [
       "plot without title"
      ]
     },
     "metadata": {
      "image/png": {
       "height": 420,
       "width": 420
      }
     },
     "output_type": "display_data"
    }
   ],
   "source": [
    "respon_box <- ggplot(data_all, aes(x = grades_joint, y=responsibility, fill = grades_joint)) +\n",
    "  geom_violin(width = 0.6, alpha = 1, trim = FALSE) + \n",
    "  theme(legend.position=\"none\") +\n",
    "  scale_fill_brewer(palette=\"BuGn\") +\n",
    "  labs(x = \"Groups by Grade\", y = \"Degree of Agreement\") +\n",
    "  ggtitle(\"Distribution of Responsibility by Grade Groups\", subtitle = expression(italic(\" 'The unemployed should take any available job or lose unemployment benefits.' \"))) \n",
    "respon_box + stat_summary(fun.y = mean, geom = 'point', size = 3, color ='#2326de')"
   ]
  },
  {
   "cell_type": "code",
   "execution_count": 25,
   "metadata": {
    "vscode": {
     "languageId": "r"
    }
   },
   "outputs": [
    {
     "data": {
      "image/png": "[encoded data removed]",
      "text/plain": [
       "plot without title"
      ]
     },
     "metadata": {
      "image/png": {
       "height": 420,
       "width": 420
      }
     },
     "output_type": "display_data"
    }
   ],
   "source": [
    "employ_box <- ggplot(data_all, aes(x = grades_joint, y=employment, fill = grades_joint)) + coord_flip() +\n",
    "  geom_boxplot(width = 0.6, alpha = 0.8) + \n",
    "  theme(legend.position=\"none\") +\n",
    "  scale_fill_brewer(palette=\"RdPu\") +\n",
    "  labs(x = \"Groups by Grade\", y = \"Degree of Agreement\") +\n",
    "  ggtitle(\"Distribution of Employment by Grade Groups\", subtitle = expression(italic(\" 'The unemployed should take any available job or lose unemployment benefits.' \"))) \n",
    "employ_box"
   ]
  },
  {
   "cell_type": "code",
   "execution_count": 26,
   "metadata": {
    "vscode": {
     "languageId": "r"
    }
   },
   "outputs": [
    {
     "data": {
      "image/png": "[encoded data removed]",
      "text/plain": [
       "plot without title"
      ]
     },
     "metadata": {
      "image/png": {
       "height": 420,
       "width": 420
      }
     },
     "output_type": "display_data"
    }
   ],
   "source": [
    "par(mfrow = c(1,2))\n",
    "employ_box <- ggplot(data_all, aes(x = grades_joint, y=employment, fill = grades_joint)) +\n",
    "  geom_violin(width = 0.6, alpha = 1, trim = FALSE) + \n",
    "  theme(legend.position=\"none\") +\n",
    "  scale_fill_brewer(palette=\"RdPu\") +\n",
    "  labs(x = \"Groups by Grade\", y = \"Degree of Agreement\") +\n",
    "  ggtitle(\"Distribution of Employment by Grade Groups\", subtitle = expression(italic(\" 'The unemployed should take any available job or lose unemployment benefits.' \"))) \n",
    "employ_box + stat_summary(fun.y = mean, geom = 'point', size = 3, color ='#2326de')"
   ]
  },
  {
   "cell_type": "code",
   "execution_count": 27,
   "metadata": {
    "vscode": {
     "languageId": "r"
    }
   },
   "outputs": [
    {
     "data": {
      "image/png": "[encoded data removed]",
      "text/plain": [
       "plot without title"
      ]
     },
     "metadata": {
      "image/png": {
       "height": 420,
       "width": 420
      }
     },
     "output_type": "display_data"
    }
   ],
   "source": [
    "compet_box <- ggplot(data_all, aes(x = grades_joint, y = competition, fill = grades_joint)) + coord_flip() +\n",
    "  geom_boxplot(width = 0.6, alpha = 0.8) + \n",
    "  theme(legend.position=\"none\") +\n",
    "  scale_fill_brewer(palette=\"PuBu\") +\n",
    "  labs(x = \"Groups by Grade\", y = \"Degree of Agreement\") +\n",
    "  ggtitle(\"Distribution of Competition by Grade Groups\", subtitle = expression(italic(\" 'Market competition improves the country and the living environment.' \"))) \n",
    "compet_box"
   ]
  },
  {
   "cell_type": "code",
   "execution_count": 28,
   "metadata": {
    "vscode": {
     "languageId": "r"
    }
   },
   "outputs": [
    {
     "data": {
      "image/png": "[encoded data removed]",
      "text/plain": [
       "plot without title"
      ]
     },
     "metadata": {
      "image/png": {
       "height": 420,
       "width": 420
      }
     },
     "output_type": "display_data"
    }
   ],
   "source": [
    "\n",
    "compet_box <- ggplot(data_all, aes(x = grades_joint, y=competition, fill = grades_joint)) +\n",
    "  geom_violin(width = 0.6, alpha = 1, trim = FALSE) + \n",
    "  theme(legend.position=\"none\") +\n",
    "  scale_fill_brewer(palette=\"PuBu\") +\n",
    "  labs(x = \"Groups by Grade\", y = \"Degree of Agreement\") +\n",
    "  ggtitle(\"Distribution of Competition by Grade Groups\", subtitle = expression(italic(\" 'The unemployed should take any available job or lose unemployment benefits.' \"))) \n",
    "compet_box + stat_summary(fun.y = mean, geom = 'point', size = 3, color ='#f00c0c')"
   ]
  },
  {
   "cell_type": "code",
   "execution_count": 29,
   "metadata": {
    "vscode": {
     "languageId": "r"
    }
   },
   "outputs": [
    {
     "data": {
      "image/png": "[encoded data removed]",
      "text/plain": [
       "plot without title"
      ]
     },
     "metadata": {
      "image/png": {
       "height": 420,
       "width": 420
      }
     },
     "output_type": "display_data"
    }
   ],
   "source": [
    "gini_box <- ggplot(data_all, aes(x = grades_joint, y = gini, fill = grades_joint)) + coord_flip() +\n",
    "  geom_boxplot(width = 0.6, alpha = 0.8) + \n",
    "  theme(legend.position=\"none\") +\n",
    "  labs(x = \"Groups by Grade\", y = \"Degree of Agreement\") +\n",
    "  ggtitle(\"Distribution of Gini by Grade Groups\", subtitle = expression(italic(\" 'Employees incomes should be more equal.' \"))) +\n",
    "  scale_fill_brewer(palette=\"BuPu\") \n",
    "gini_box\n",
    "# gini_box + theme_minimal()\n"
   ]
  },
  {
   "cell_type": "code",
   "execution_count": 30,
   "metadata": {
    "vscode": {
     "languageId": "r"
    }
   },
   "outputs": [
    {
     "data": {
      "image/png": "[encoded data removed]",
      "text/plain": [
       "plot without title"
      ]
     },
     "metadata": {
      "image/png": {
       "height": 420,
       "width": 420
      }
     },
     "output_type": "display_data"
    }
   ],
   "source": [
    "gini_box <- ggplot(data_all, aes(x = grades_joint, y=gini, fill = grades_joint)) +\n",
    "  geom_violin(width = 0.6, alpha = 1, trim = FALSE) + \n",
    "  theme(legend.position=\"none\") +\n",
    "  scale_fill_brewer(palette=\"BuPu\") +\n",
    "  labs(x = \"Groups by Grade\", y = \"Degree of Agreement\") +\n",
    "  ggtitle(\"Distribution of Employment by Grade Groups\", subtitle = expression(italic(\" 'The unemployed should take any available job or lose unemployment benefits.' \"))) \n",
    "gini_box + stat_summary(fun.y = mean, geom = 'point', size = 3, color ='#2326de')"
   ]
  },
  {
   "cell_type": "code",
   "execution_count": 31,
   "metadata": {
    "vscode": {
     "languageId": "r"
    }
   },
   "outputs": [
    {
     "data": {
      "image/png": "[encoded data removed]",
      "text/plain": [
       "plot without title"
      ]
     },
     "metadata": {
      "image/png": {
       "height": 420,
       "width": 420
      }
     },
     "output_type": "display_data"
    }
   ],
   "source": [
    "privat_box <- ggplot(data_all, aes(x = grades_joint, y = privatization, fill = grades_joint)) + coord_flip() +\n",
    "  geom_boxplot(width = 0.6, alpha = 0.8) + \n",
    "  theme(legend.position=\"none\") +\n",
    "  labs(x = \"Groups by Grade\", y = \"Degree of Agreement\") +\n",
    "  ggtitle(\"Distribution of Privatization by Grade Groups\", subtitle = expression(italic(\" 'Private ownership of bussiness and industry should be increased.' \"))) +\n",
    "  scale_fill_brewer(palette=\"OrRd\") \n",
    "privat_box"
   ]
  },
  {
   "cell_type": "code",
   "execution_count": 32,
   "metadata": {
    "vscode": {
     "languageId": "r"
    }
   },
   "outputs": [
    {
     "data": {
      "image/png": "[encoded data removed]",
      "text/plain": [
       "plot without title"
      ]
     },
     "metadata": {
      "image/png": {
       "height": 420,
       "width": 420
      }
     },
     "output_type": "display_data"
    }
   ],
   "source": [
    "privat_box <- ggplot(data_all, aes(x = grades_joint, y=privatization, fill = grades_joint)) +\n",
    "  geom_violin(width = 0.6, alpha = 1, trim = FALSE) + \n",
    "  theme(legend.position=\"none\") +\n",
    "  scale_fill_brewer(palette=\"OrRd\") +\n",
    "  labs(x = \"Groups by Grade\", y = \"Degree of Agreement\") +\n",
    "  ggtitle(\"Distribution of Privatization by Grade Groups\", subtitle = expression(italic(\" 'The unemployed should take any available job or lose unemployment benefits.' \"))) \n",
    "privat_box + stat_summary(fun.y = mean, geom = 'point', size = 3, color ='#2326de')"
   ]
  },
  {
   "attachments": {},
   "cell_type": "markdown",
   "metadata": {},
   "source": [
    "In terms of violin plots interpretation, we will provide more detailed analysis of two violin plots that displayed only marginally significant results. When examining the violin plot for the responsibility statement, we can observe that the medians for each group are similar, with most scores clustered around 8. The violins also suggest a skewed distribution for all groups, with more scores in the higher range than the lower range. Turning to the violin plot for the moderate scores, we see that the distribution is slightly narrower than the other three groups, suggesting less variability in scores. Finally,  the width of the violin is greatest around the agreement values of 8 for the first group, namely, no recall, while for the high score group, it is greatest around a value of 10.\n",
    "\n",
    "Looking at the violin plot for the privatization statement, it becomes apparent that the median scores for the moderate and low score groups are lower by one unit than those of the no recall and high score groups, with median values around 7 and 6, respectively. Furthermore, the shape of the violins for the no recall and high score groups appear to be somewhat more tightly clustered towards the upper end of the y-axis compared to the other groups. The width of the low score group is greatest around a value of 5, while the distribution of the moderate score group is more even along the y-axis."
   ]
  },
  {
   "attachments": {},
   "cell_type": "markdown",
   "metadata": {},
   "source": [
    "### Logistic regression model"
   ]
  },
  {
   "cell_type": "code",
   "execution_count": 33,
   "metadata": {
    "vscode": {
     "languageId": "r"
    }
   },
   "outputs": [
    {
     "data": {
      "text/html": [
       "<table class=\"dataframe\">\n",
       "<caption>A data.frame: 6 × 15</caption>\n",
       "<thead>\n",
       "\t<tr><th></th><th scope=col>id_i</th><th scope=col>timestamp</th><th scope=col>age</th><th scope=col>region</th><th scope=col>grades</th><th scope=col>responsibility</th><th scope=col>employment</th><th scope=col>competition</th><th scope=col>gini</th><th scope=col>privatization</th><th scope=col>slovenia_an_option</th><th scope=col>slovenia_selected</th><th scope=col>slov_score</th><th scope=col>grades_joint</th><th scope=col>slo_bi</th></tr>\n",
       "\t<tr><th></th><th scope=col>&lt;chr&gt;</th><th scope=col>&lt;chr&gt;</th><th scope=col>&lt;chr&gt;</th><th scope=col>&lt;chr&gt;</th><th scope=col>&lt;chr&gt;</th><th scope=col>&lt;int&gt;</th><th scope=col>&lt;int&gt;</th><th scope=col>&lt;int&gt;</th><th scope=col>&lt;int&gt;</th><th scope=col>&lt;int&gt;</th><th scope=col>&lt;int&gt;</th><th scope=col>&lt;int&gt;</th><th scope=col>&lt;dbl&gt;</th><th scope=col>&lt;fct&gt;</th><th scope=col>&lt;dbl&gt;</th></tr>\n",
       "</thead>\n",
       "<tbody>\n",
       "\t<tr><th scope=row>1</th><td>000f1445-945e-48da-9a6f-0cac103ca7a3</td><td>2023-01-12T08:16:21.233Z</td><td>0-25</td><td>Osrednjeslovenska</td><td>I do not remember</td><td>10</td><td> 4</td><td>7</td><td>5</td><td>6</td><td>4</td><td>3</td><td>0.7500000</td><td>No Recall      </td><td>0</td></tr>\n",
       "\t<tr><th scope=row>2</th><td>002bc375-035c-4694-84d2-9c51746d8aa6</td><td>2023-01-10T13:04:10.750Z</td><td>0-25</td><td>Osrednjeslovenska</td><td>31 or more       </td><td>10</td><td> 7</td><td>5</td><td>5</td><td>6</td><td>2</td><td>2</td><td>1.0000000</td><td>High Scores    </td><td>1</td></tr>\n",
       "\t<tr><th scope=row>3</th><td>02d7448d-9dd2-4115-a512-d4f1a9761aa7</td><td>2023-01-11T09:11:57.043Z</td><td>0-25</td><td>Osrednjeslovenska</td><td>from 21 to 25    </td><td> 9</td><td> 9</td><td>7</td><td>5</td><td>9</td><td>1</td><td>1</td><td>1.0000000</td><td>Moderate Scores</td><td>1</td></tr>\n",
       "\t<tr><th scope=row>4</th><td>037498ef-663e-44c2-b628-bfd2eeb06861</td><td>2023-01-12T08:14:54.803Z</td><td>0-25</td><td>Podravska        </td><td>from 16 to 20    </td><td> 9</td><td> 8</td><td>9</td><td>7</td><td>6</td><td>2</td><td>2</td><td>1.0000000</td><td>Low Scores     </td><td>1</td></tr>\n",
       "\t<tr><th scope=row>5</th><td>04346d1e-81a7-43dc-9eb6-b745436aad8f</td><td>2023-01-10T13:05:29.078Z</td><td>0-25</td><td>Goriška          </td><td>31 or more       </td><td> 9</td><td>10</td><td>7</td><td>7</td><td>7</td><td>3</td><td>2</td><td>0.6666667</td><td>High Scores    </td><td>0</td></tr>\n",
       "\t<tr><th scope=row>6</th><td>0450f190-731d-4c44-86b4-324fe1d93da2</td><td>2023-01-10T13:05:39.833Z</td><td>0-25</td><td>Osrednjeslovenska</td><td>I do not remember</td><td> 8</td><td>10</td><td>6</td><td>4</td><td>7</td><td>2</td><td>2</td><td>1.0000000</td><td>No Recall      </td><td>1</td></tr>\n",
       "</tbody>\n",
       "</table>\n"
      ],
      "text/latex": [
       "A data.frame: 6 × 15\n",
       "\\begin{tabular}{r|lllllllllllllll}\n",
       "  & id\\_i & timestamp & age & region & grades & responsibility & employment & competition & gini & privatization & slovenia\\_an\\_option & slovenia\\_selected & slov\\_score & grades\\_joint & slo\\_bi\\\\\n",
       "  & <chr> & <chr> & <chr> & <chr> & <chr> & <int> & <int> & <int> & <int> & <int> & <int> & <int> & <dbl> & <fct> & <dbl>\\\\\n",
       "\\hline\n",
       "\t1 & 000f1445-945e-48da-9a6f-0cac103ca7a3 & 2023-01-12T08:16:21.233Z & 0-25 & Osrednjeslovenska & I do not remember & 10 &  4 & 7 & 5 & 6 & 4 & 3 & 0.7500000 & No Recall       & 0\\\\\n",
       "\t2 & 002bc375-035c-4694-84d2-9c51746d8aa6 & 2023-01-10T13:04:10.750Z & 0-25 & Osrednjeslovenska & 31 or more        & 10 &  7 & 5 & 5 & 6 & 2 & 2 & 1.0000000 & High Scores     & 1\\\\\n",
       "\t3 & 02d7448d-9dd2-4115-a512-d4f1a9761aa7 & 2023-01-11T09:11:57.043Z & 0-25 & Osrednjeslovenska & from 21 to 25     &  9 &  9 & 7 & 5 & 9 & 1 & 1 & 1.0000000 & Moderate Scores & 1\\\\\n",
       "\t4 & 037498ef-663e-44c2-b628-bfd2eeb06861 & 2023-01-12T08:14:54.803Z & 0-25 & Podravska         & from 16 to 20     &  9 &  8 & 9 & 7 & 6 & 2 & 2 & 1.0000000 & Low Scores      & 1\\\\\n",
       "\t5 & 04346d1e-81a7-43dc-9eb6-b745436aad8f & 2023-01-10T13:05:29.078Z & 0-25 & Goriška           & 31 or more        &  9 & 10 & 7 & 7 & 7 & 3 & 2 & 0.6666667 & High Scores     & 0\\\\\n",
       "\t6 & 0450f190-731d-4c44-86b4-324fe1d93da2 & 2023-01-10T13:05:39.833Z & 0-25 & Osrednjeslovenska & I do not remember &  8 & 10 & 6 & 4 & 7 & 2 & 2 & 1.0000000 & No Recall       & 1\\\\\n",
       "\\end{tabular}\n"
      ],
      "text/markdown": [
       "\n",
       "A data.frame: 6 × 15\n",
       "\n",
       "| <!--/--> | id_i &lt;chr&gt; | timestamp &lt;chr&gt; | age &lt;chr&gt; | region &lt;chr&gt; | grades &lt;chr&gt; | responsibility &lt;int&gt; | employment &lt;int&gt; | competition &lt;int&gt; | gini &lt;int&gt; | privatization &lt;int&gt; | slovenia_an_option &lt;int&gt; | slovenia_selected &lt;int&gt; | slov_score &lt;dbl&gt; | grades_joint &lt;fct&gt; | slo_bi &lt;dbl&gt; |\n",
       "|---|---|---|---|---|---|---|---|---|---|---|---|---|---|---|---|\n",
       "| 1 | 000f1445-945e-48da-9a6f-0cac103ca7a3 | 2023-01-12T08:16:21.233Z | 0-25 | Osrednjeslovenska | I do not remember | 10 |  4 | 7 | 5 | 6 | 4 | 3 | 0.7500000 | No Recall       | 0 |\n",
       "| 2 | 002bc375-035c-4694-84d2-9c51746d8aa6 | 2023-01-10T13:04:10.750Z | 0-25 | Osrednjeslovenska | 31 or more        | 10 |  7 | 5 | 5 | 6 | 2 | 2 | 1.0000000 | High Scores     | 1 |\n",
       "| 3 | 02d7448d-9dd2-4115-a512-d4f1a9761aa7 | 2023-01-11T09:11:57.043Z | 0-25 | Osrednjeslovenska | from 21 to 25     |  9 |  9 | 7 | 5 | 9 | 1 | 1 | 1.0000000 | Moderate Scores | 1 |\n",
       "| 4 | 037498ef-663e-44c2-b628-bfd2eeb06861 | 2023-01-12T08:14:54.803Z | 0-25 | Podravska         | from 16 to 20     |  9 |  8 | 9 | 7 | 6 | 2 | 2 | 1.0000000 | Low Scores      | 1 |\n",
       "| 5 | 04346d1e-81a7-43dc-9eb6-b745436aad8f | 2023-01-10T13:05:29.078Z | 0-25 | Goriška           | 31 or more        |  9 | 10 | 7 | 7 | 7 | 3 | 2 | 0.6666667 | High Scores     | 0 |\n",
       "| 6 | 0450f190-731d-4c44-86b4-324fe1d93da2 | 2023-01-10T13:05:39.833Z | 0-25 | Osrednjeslovenska | I do not remember |  8 | 10 | 6 | 4 | 7 | 2 | 2 | 1.0000000 | No Recall       | 1 |\n",
       "\n"
      ],
      "text/plain": [
       "  id_i                                 timestamp                age \n",
       "1 000f1445-945e-48da-9a6f-0cac103ca7a3 2023-01-12T08:16:21.233Z 0-25\n",
       "2 002bc375-035c-4694-84d2-9c51746d8aa6 2023-01-10T13:04:10.750Z 0-25\n",
       "3 02d7448d-9dd2-4115-a512-d4f1a9761aa7 2023-01-11T09:11:57.043Z 0-25\n",
       "4 037498ef-663e-44c2-b628-bfd2eeb06861 2023-01-12T08:14:54.803Z 0-25\n",
       "5 04346d1e-81a7-43dc-9eb6-b745436aad8f 2023-01-10T13:05:29.078Z 0-25\n",
       "6 0450f190-731d-4c44-86b4-324fe1d93da2 2023-01-10T13:05:39.833Z 0-25\n",
       "  region            grades            responsibility employment competition\n",
       "1 Osrednjeslovenska I do not remember 10              4         7          \n",
       "2 Osrednjeslovenska 31 or more        10              7         5          \n",
       "3 Osrednjeslovenska from 21 to 25      9              9         7          \n",
       "4 Podravska         from 16 to 20      9              8         9          \n",
       "5 Goriška           31 or more         9             10         7          \n",
       "6 Osrednjeslovenska I do not remember  8             10         6          \n",
       "  gini privatization slovenia_an_option slovenia_selected slov_score\n",
       "1 5    6             4                  3                 0.7500000 \n",
       "2 5    6             2                  2                 1.0000000 \n",
       "3 5    9             1                  1                 1.0000000 \n",
       "4 7    6             2                  2                 1.0000000 \n",
       "5 7    7             3                  2                 0.6666667 \n",
       "6 4    7             2                  2                 1.0000000 \n",
       "  grades_joint    slo_bi\n",
       "1 No Recall       0     \n",
       "2 High Scores     1     \n",
       "3 Moderate Scores 1     \n",
       "4 Low Scores      1     \n",
       "5 High Scores     0     \n",
       "6 No Recall       1     "
      ]
     },
     "metadata": {},
     "output_type": "display_data"
    }
   ],
   "source": [
    "data_all$slo_bi <- ifelse(data_all$slov_score >= 0.8, 1, 0)\n",
    "head(data_all)"
   ]
  },
  {
   "cell_type": "code",
   "execution_count": 34,
   "metadata": {
    "vscode": {
     "languageId": "r"
    }
   },
   "outputs": [
    {
     "data": {
      "text/plain": [
       "\n",
       "Call:\n",
       "glm(formula = slo_bi ~ responsibility + employment + competition + \n",
       "    gini + privatization, family = binomial(link = \"logit\"), \n",
       "    data = data_all)\n",
       "\n",
       "Deviance Residuals: \n",
       "    Min       1Q   Median       3Q      Max  \n",
       "-1.9199  -1.3646   0.8137   0.9187   1.2602  \n",
       "\n",
       "Coefficients:\n",
       "                Estimate Std. Error z value Pr(>|z|)\n",
       "(Intercept)     1.099134   1.001538   1.097    0.272\n",
       "responsibility -0.119083   0.102980  -1.156    0.248\n",
       "employment      0.022800   0.060493   0.377    0.706\n",
       "competition     0.003183   0.088156   0.036    0.971\n",
       "gini           -0.045539   0.058810  -0.774    0.439\n",
       "privatization   0.100985   0.064255   1.572    0.116\n",
       "\n",
       "(Dispersion parameter for binomial family taken to be 1)\n",
       "\n",
       "    Null deviance: 300.89  on 235  degrees of freedom\n",
       "Residual deviance: 295.29  on 230  degrees of freedom\n",
       "AIC: 307.29\n",
       "\n",
       "Number of Fisher Scoring iterations: 4\n"
      ]
     },
     "metadata": {},
     "output_type": "display_data"
    }
   ],
   "source": [
    "model <- glm(slo_bi ~ responsibility + employment + competition + gini + privatization, data = data_all, family = binomial(link = \"logit\"))\n",
    "summary(model)"
   ]
  },
  {
   "cell_type": "code",
   "execution_count": 35,
   "metadata": {
    "vscode": {
     "languageId": "r"
    }
   },
   "outputs": [
    {
     "name": "stderr",
     "output_type": "stream",
     "text": [
      "\n",
      "Attaching package: 'MASS'\n",
      "\n",
      "\n",
      "The following object is masked from 'package:dplyr':\n",
      "\n",
      "    select\n",
      "\n",
      "\n"
     ]
    },
    {
     "name": "stdout",
     "output_type": "stream",
     "text": [
      "Start:  AIC=307.29\n",
      "slo_bi ~ responsibility + employment + competition + gini + privatization\n",
      "\n",
      "                 Df Deviance    AIC\n",
      "- competition     1   295.29 305.29\n",
      "- employment      1   295.43 305.43\n",
      "- gini            1   295.89 305.89\n",
      "- responsibility  1   296.67 306.67\n",
      "<none>                295.29 307.29\n",
      "- privatization   1   297.79 307.79\n",
      "\n",
      "Step:  AIC=305.29\n",
      "slo_bi ~ responsibility + employment + gini + privatization\n",
      "\n",
      "                 Df Deviance    AIC\n",
      "- employment      1   295.44 303.44\n",
      "- gini            1   295.89 303.89\n",
      "- responsibility  1   296.79 304.79\n",
      "<none>                295.29 305.29\n",
      "- privatization   1   298.09 306.09\n",
      "\n",
      "Step:  AIC=303.44\n",
      "slo_bi ~ responsibility + gini + privatization\n",
      "\n",
      "                 Df Deviance    AIC\n",
      "- gini            1   295.98 301.98\n",
      "- responsibility  1   296.83 302.83\n",
      "<none>                295.44 303.44\n",
      "- privatization   1   298.77 304.77\n",
      "\n",
      "Step:  AIC=301.98\n",
      "slo_bi ~ responsibility + privatization\n",
      "\n",
      "                 Df Deviance    AIC\n",
      "- responsibility  1   297.36 301.36\n",
      "<none>                295.98 301.98\n",
      "- privatization   1   299.96 303.96\n",
      "\n",
      "Step:  AIC=301.36\n",
      "slo_bi ~ privatization\n",
      "\n",
      "                Df Deviance    AIC\n",
      "<none>               297.36 301.36\n",
      "- privatization  1   300.89 302.89\n"
     ]
    },
    {
     "data": {
      "text/plain": [
       "\n",
       "Call:  glm(formula = slo_bi ~ privatization, family = binomial(link = \"logit\"), \n",
       "    data = data_all)\n",
       "\n",
       "Coefficients:\n",
       "  (Intercept)  privatization  \n",
       "  -0.00001919     0.10809996  \n",
       "\n",
       "Degrees of Freedom: 235 Total (i.e. Null);  234 Residual\n",
       "Null Deviance:\t    300.9 \n",
       "Residual Deviance: 297.4 \tAIC: 301.4"
      ]
     },
     "metadata": {},
     "output_type": "display_data"
    }
   ],
   "source": [
    "library(MASS)\n",
    "stepAIC(model, method = \"both\")"
   ]
  },
  {
   "cell_type": "code",
   "execution_count": 36,
   "metadata": {
    "vscode": {
     "languageId": "r"
    }
   },
   "outputs": [
    {
     "data": {
      "text/html": [
       "<table class=\"dataframe\">\n",
       "<caption>A data.frame: 6 × 16</caption>\n",
       "<thead>\n",
       "\t<tr><th></th><th scope=col>id_i</th><th scope=col>timestamp</th><th scope=col>age</th><th scope=col>region</th><th scope=col>grades</th><th scope=col>responsibility</th><th scope=col>employment</th><th scope=col>competition</th><th scope=col>gini</th><th scope=col>privatization</th><th scope=col>slovenia_an_option</th><th scope=col>slovenia_selected</th><th scope=col>slov_score</th><th scope=col>grades_joint</th><th scope=col>slo_bi</th><th scope=col>gini_5</th></tr>\n",
       "\t<tr><th></th><th scope=col>&lt;chr&gt;</th><th scope=col>&lt;chr&gt;</th><th scope=col>&lt;chr&gt;</th><th scope=col>&lt;chr&gt;</th><th scope=col>&lt;chr&gt;</th><th scope=col>&lt;int&gt;</th><th scope=col>&lt;int&gt;</th><th scope=col>&lt;int&gt;</th><th scope=col>&lt;int&gt;</th><th scope=col>&lt;int&gt;</th><th scope=col>&lt;int&gt;</th><th scope=col>&lt;int&gt;</th><th scope=col>&lt;dbl&gt;</th><th scope=col>&lt;fct&gt;</th><th scope=col>&lt;dbl&gt;</th><th scope=col>&lt;fct&gt;</th></tr>\n",
       "</thead>\n",
       "<tbody>\n",
       "\t<tr><th scope=row>1</th><td>000f1445-945e-48da-9a6f-0cac103ca7a3</td><td>2023-01-12T08:16:21.233Z</td><td>0-25</td><td>Osrednjeslovenska</td><td>I do not remember</td><td>10</td><td> 4</td><td>7</td><td>5</td><td>6</td><td>4</td><td>3</td><td>0.7500000</td><td>No Recall      </td><td>0</td><td>3</td></tr>\n",
       "\t<tr><th scope=row>2</th><td>002bc375-035c-4694-84d2-9c51746d8aa6</td><td>2023-01-10T13:04:10.750Z</td><td>0-25</td><td>Osrednjeslovenska</td><td>31 or more       </td><td>10</td><td> 7</td><td>5</td><td>5</td><td>6</td><td>2</td><td>2</td><td>1.0000000</td><td>High Scores    </td><td>1</td><td>3</td></tr>\n",
       "\t<tr><th scope=row>3</th><td>02d7448d-9dd2-4115-a512-d4f1a9761aa7</td><td>2023-01-11T09:11:57.043Z</td><td>0-25</td><td>Osrednjeslovenska</td><td>from 21 to 25    </td><td> 9</td><td> 9</td><td>7</td><td>5</td><td>9</td><td>1</td><td>1</td><td>1.0000000</td><td>Moderate Scores</td><td>1</td><td>3</td></tr>\n",
       "\t<tr><th scope=row>4</th><td>037498ef-663e-44c2-b628-bfd2eeb06861</td><td>2023-01-12T08:14:54.803Z</td><td>0-25</td><td>Podravska        </td><td>from 16 to 20    </td><td> 9</td><td> 8</td><td>9</td><td>7</td><td>6</td><td>2</td><td>2</td><td>1.0000000</td><td>Low Scores     </td><td>1</td><td>4</td></tr>\n",
       "\t<tr><th scope=row>5</th><td>04346d1e-81a7-43dc-9eb6-b745436aad8f</td><td>2023-01-10T13:05:29.078Z</td><td>0-25</td><td>Goriška          </td><td>31 or more       </td><td> 9</td><td>10</td><td>7</td><td>7</td><td>7</td><td>3</td><td>2</td><td>0.6666667</td><td>High Scores    </td><td>0</td><td>4</td></tr>\n",
       "\t<tr><th scope=row>6</th><td>0450f190-731d-4c44-86b4-324fe1d93da2</td><td>2023-01-10T13:05:39.833Z</td><td>0-25</td><td>Osrednjeslovenska</td><td>I do not remember</td><td> 8</td><td>10</td><td>6</td><td>4</td><td>7</td><td>2</td><td>2</td><td>1.0000000</td><td>No Recall      </td><td>1</td><td>2</td></tr>\n",
       "</tbody>\n",
       "</table>\n"
      ],
      "text/latex": [
       "A data.frame: 6 × 16\n",
       "\\begin{tabular}{r|llllllllllllllll}\n",
       "  & id\\_i & timestamp & age & region & grades & responsibility & employment & competition & gini & privatization & slovenia\\_an\\_option & slovenia\\_selected & slov\\_score & grades\\_joint & slo\\_bi & gini\\_5\\\\\n",
       "  & <chr> & <chr> & <chr> & <chr> & <chr> & <int> & <int> & <int> & <int> & <int> & <int> & <int> & <dbl> & <fct> & <dbl> & <fct>\\\\\n",
       "\\hline\n",
       "\t1 & 000f1445-945e-48da-9a6f-0cac103ca7a3 & 2023-01-12T08:16:21.233Z & 0-25 & Osrednjeslovenska & I do not remember & 10 &  4 & 7 & 5 & 6 & 4 & 3 & 0.7500000 & No Recall       & 0 & 3\\\\\n",
       "\t2 & 002bc375-035c-4694-84d2-9c51746d8aa6 & 2023-01-10T13:04:10.750Z & 0-25 & Osrednjeslovenska & 31 or more        & 10 &  7 & 5 & 5 & 6 & 2 & 2 & 1.0000000 & High Scores     & 1 & 3\\\\\n",
       "\t3 & 02d7448d-9dd2-4115-a512-d4f1a9761aa7 & 2023-01-11T09:11:57.043Z & 0-25 & Osrednjeslovenska & from 21 to 25     &  9 &  9 & 7 & 5 & 9 & 1 & 1 & 1.0000000 & Moderate Scores & 1 & 3\\\\\n",
       "\t4 & 037498ef-663e-44c2-b628-bfd2eeb06861 & 2023-01-12T08:14:54.803Z & 0-25 & Podravska         & from 16 to 20     &  9 &  8 & 9 & 7 & 6 & 2 & 2 & 1.0000000 & Low Scores      & 1 & 4\\\\\n",
       "\t5 & 04346d1e-81a7-43dc-9eb6-b745436aad8f & 2023-01-10T13:05:29.078Z & 0-25 & Goriška           & 31 or more        &  9 & 10 & 7 & 7 & 7 & 3 & 2 & 0.6666667 & High Scores     & 0 & 4\\\\\n",
       "\t6 & 0450f190-731d-4c44-86b4-324fe1d93da2 & 2023-01-10T13:05:39.833Z & 0-25 & Osrednjeslovenska & I do not remember &  8 & 10 & 6 & 4 & 7 & 2 & 2 & 1.0000000 & No Recall       & 1 & 2\\\\\n",
       "\\end{tabular}\n"
      ],
      "text/markdown": [
       "\n",
       "A data.frame: 6 × 16\n",
       "\n",
       "| <!--/--> | id_i &lt;chr&gt; | timestamp &lt;chr&gt; | age &lt;chr&gt; | region &lt;chr&gt; | grades &lt;chr&gt; | responsibility &lt;int&gt; | employment &lt;int&gt; | competition &lt;int&gt; | gini &lt;int&gt; | privatization &lt;int&gt; | slovenia_an_option &lt;int&gt; | slovenia_selected &lt;int&gt; | slov_score &lt;dbl&gt; | grades_joint &lt;fct&gt; | slo_bi &lt;dbl&gt; | gini_5 &lt;fct&gt; |\n",
       "|---|---|---|---|---|---|---|---|---|---|---|---|---|---|---|---|---|\n",
       "| 1 | 000f1445-945e-48da-9a6f-0cac103ca7a3 | 2023-01-12T08:16:21.233Z | 0-25 | Osrednjeslovenska | I do not remember | 10 |  4 | 7 | 5 | 6 | 4 | 3 | 0.7500000 | No Recall       | 0 | 3 |\n",
       "| 2 | 002bc375-035c-4694-84d2-9c51746d8aa6 | 2023-01-10T13:04:10.750Z | 0-25 | Osrednjeslovenska | 31 or more        | 10 |  7 | 5 | 5 | 6 | 2 | 2 | 1.0000000 | High Scores     | 1 | 3 |\n",
       "| 3 | 02d7448d-9dd2-4115-a512-d4f1a9761aa7 | 2023-01-11T09:11:57.043Z | 0-25 | Osrednjeslovenska | from 21 to 25     |  9 |  9 | 7 | 5 | 9 | 1 | 1 | 1.0000000 | Moderate Scores | 1 | 3 |\n",
       "| 4 | 037498ef-663e-44c2-b628-bfd2eeb06861 | 2023-01-12T08:14:54.803Z | 0-25 | Podravska         | from 16 to 20     |  9 |  8 | 9 | 7 | 6 | 2 | 2 | 1.0000000 | Low Scores      | 1 | 4 |\n",
       "| 5 | 04346d1e-81a7-43dc-9eb6-b745436aad8f | 2023-01-10T13:05:29.078Z | 0-25 | Goriška           | 31 or more        |  9 | 10 | 7 | 7 | 7 | 3 | 2 | 0.6666667 | High Scores     | 0 | 4 |\n",
       "| 6 | 0450f190-731d-4c44-86b4-324fe1d93da2 | 2023-01-10T13:05:39.833Z | 0-25 | Osrednjeslovenska | I do not remember |  8 | 10 | 6 | 4 | 7 | 2 | 2 | 1.0000000 | No Recall       | 1 | 2 |\n",
       "\n"
      ],
      "text/plain": [
       "  id_i                                 timestamp                age \n",
       "1 000f1445-945e-48da-9a6f-0cac103ca7a3 2023-01-12T08:16:21.233Z 0-25\n",
       "2 002bc375-035c-4694-84d2-9c51746d8aa6 2023-01-10T13:04:10.750Z 0-25\n",
       "3 02d7448d-9dd2-4115-a512-d4f1a9761aa7 2023-01-11T09:11:57.043Z 0-25\n",
       "4 037498ef-663e-44c2-b628-bfd2eeb06861 2023-01-12T08:14:54.803Z 0-25\n",
       "5 04346d1e-81a7-43dc-9eb6-b745436aad8f 2023-01-10T13:05:29.078Z 0-25\n",
       "6 0450f190-731d-4c44-86b4-324fe1d93da2 2023-01-10T13:05:39.833Z 0-25\n",
       "  region            grades            responsibility employment competition\n",
       "1 Osrednjeslovenska I do not remember 10              4         7          \n",
       "2 Osrednjeslovenska 31 or more        10              7         5          \n",
       "3 Osrednjeslovenska from 21 to 25      9              9         7          \n",
       "4 Podravska         from 16 to 20      9              8         9          \n",
       "5 Goriška           31 or more         9             10         7          \n",
       "6 Osrednjeslovenska I do not remember  8             10         6          \n",
       "  gini privatization slovenia_an_option slovenia_selected slov_score\n",
       "1 5    6             4                  3                 0.7500000 \n",
       "2 5    6             2                  2                 1.0000000 \n",
       "3 5    9             1                  1                 1.0000000 \n",
       "4 7    6             2                  2                 1.0000000 \n",
       "5 7    7             3                  2                 0.6666667 \n",
       "6 4    7             2                  2                 1.0000000 \n",
       "  grades_joint    slo_bi gini_5\n",
       "1 No Recall       0      3     \n",
       "2 High Scores     1      3     \n",
       "3 Moderate Scores 1      3     \n",
       "4 Low Scores      1      4     \n",
       "5 High Scores     0      4     \n",
       "6 No Recall       1      2     "
      ]
     },
     "metadata": {},
     "output_type": "display_data"
    }
   ],
   "source": [
    "data_all$gini_5 <- cut(data_all$gini, breaks = c(0, 2, 4, 6, 8, 10), labels = c(\"1\", \"2\", \"3\", \"4\", \"5\"))\n",
    "head(data_all)"
   ]
  },
  {
   "attachments": {},
   "cell_type": "markdown",
   "metadata": {},
   "source": [
    "### Bar Plot of Ranking Scores of Countries \n",
    "*for the sake of internship*"
   ]
  },
  {
   "cell_type": "code",
   "execution_count": 37,
   "metadata": {
    "vscode": {
     "languageId": "r"
    }
   },
   "outputs": [
    {
     "data": {
      "text/html": [
       "<table class=\"dataframe\">\n",
       "<caption>A data.frame: 6 × 2</caption>\n",
       "<thead>\n",
       "\t<tr><th></th><th scope=col>country</th><th scope=col>ranking.score</th></tr>\n",
       "\t<tr><th></th><th scope=col>&lt;chr&gt;</th><th scope=col>&lt;dbl&gt;</th></tr>\n",
       "</thead>\n",
       "<tbody>\n",
       "\t<tr><th scope=row>1</th><td>Slovenia   </td><td>0.8013699</td></tr>\n",
       "\t<tr><th scope=row>2</th><td>Switzerland</td><td>0.7897574</td></tr>\n",
       "\t<tr><th scope=row>3</th><td>Netherlands</td><td>0.7748619</td></tr>\n",
       "\t<tr><th scope=row>4</th><td>Austria    </td><td>0.7468531</td></tr>\n",
       "\t<tr><th scope=row>5</th><td>Germany    </td><td>0.7374302</td></tr>\n",
       "\t<tr><th scope=row>6</th><td>Sweden     </td><td>0.7208054</td></tr>\n",
       "</tbody>\n",
       "</table>\n"
      ],
      "text/latex": [
       "A data.frame: 6 × 2\n",
       "\\begin{tabular}{r|ll}\n",
       "  & country & ranking.score\\\\\n",
       "  & <chr> & <dbl>\\\\\n",
       "\\hline\n",
       "\t1 & Slovenia    & 0.8013699\\\\\n",
       "\t2 & Switzerland & 0.7897574\\\\\n",
       "\t3 & Netherlands & 0.7748619\\\\\n",
       "\t4 & Austria     & 0.7468531\\\\\n",
       "\t5 & Germany     & 0.7374302\\\\\n",
       "\t6 & Sweden      & 0.7208054\\\\\n",
       "\\end{tabular}\n"
      ],
      "text/markdown": [
       "\n",
       "A data.frame: 6 × 2\n",
       "\n",
       "| <!--/--> | country &lt;chr&gt; | ranking.score &lt;dbl&gt; |\n",
       "|---|---|---|\n",
       "| 1 | Slovenia    | 0.8013699 |\n",
       "| 2 | Switzerland | 0.7897574 |\n",
       "| 3 | Netherlands | 0.7748619 |\n",
       "| 4 | Austria     | 0.7468531 |\n",
       "| 5 | Germany     | 0.7374302 |\n",
       "| 6 | Sweden      | 0.7208054 |\n",
       "\n"
      ],
      "text/plain": [
       "  country     ranking.score\n",
       "1 Slovenia    0.8013699    \n",
       "2 Switzerland 0.7897574    \n",
       "3 Netherlands 0.7748619    \n",
       "4 Austria     0.7468531    \n",
       "5 Germany     0.7374302    \n",
       "6 Sweden      0.7208054    "
      ]
     },
     "metadata": {},
     "output_type": "display_data"
    }
   ],
   "source": [
    "data_rank <- read.csv('out_corrected.csv', header = TRUE)\n",
    "\n",
    "data_rank$country <- ifelse(data_rank$country == 'Macedonia, Republic of', 'North Macedonia', data_rank$country)\n",
    "head(data_rank)"
   ]
  },
  {
   "cell_type": "code",
   "execution_count": 38,
   "metadata": {
    "vscode": {
     "languageId": "r"
    }
   },
   "outputs": [
    {
     "name": "stderr",
     "output_type": "stream",
     "text": [
      "Warning message:\n",
      "\"\u001b[1m\u001b[22mThe `size` argument of `element_line()` is deprecated as of ggplot2 3.4.0.\n",
      "\u001b[36mℹ\u001b[39m Please use the `linewidth` argument instead.\"\n"
     ]
    },
    {
     "data": {
      "image/png": "[encoded data removed]",
      "text/plain": [
       "plot without title"
      ]
     },
     "metadata": {
      "image/png": {
       "height": 420,
       "width": 420
      }
     },
     "output_type": "display_data"
    }
   ],
   "source": [
    "data_rank %>%\n",
    "  mutate(country = fct_reorder(country, ranking.score)) %>%\n",
    "  ggplot(aes(x = country, y = ranking.score, fill = country,)) +\n",
    "    geom_bar(stat=\"identity\", alpha=1, width=0.6) +\n",
    "    coord_flip() +\n",
    "    theme_classic() +\n",
    "    theme(legend.position=\"none\",\n",
    "          axis.title.x = element_text(size = 10),\n",
    "          axis.text.x = element_text(size = 10),\n",
    "          axis.text.y = element_text(size = 10),\n",
    "          panel.grid.major.x = element_line(color = \"#cdd6dc\", size = 0.3)) +\n",
    "    xlab(\" \") + ylab(\"Ranking Score\") +\n",
    "    scale_fill_manual(values = rev(viridis(length(data_rank$country)))) +\n",
    "    ggtitle(\"Country Rankings by Preference Score\")"
   ]
  }
 ],
 "metadata": {
  "kernelspec": {
   "display_name": "R",
   "language": "R",
   "name": "ir"
  },
  "language_info": {
   "codemirror_mode": "r",
   "file_extension": ".r",
   "mimetype": "text/x-r-source",
   "name": "R",
   "pygments_lexer": "r",
   "version": "4.2.2"
  },
  "orig_nbformat": 4
 },
 "nbformat": 4,
 "nbformat_minor": 2
}
